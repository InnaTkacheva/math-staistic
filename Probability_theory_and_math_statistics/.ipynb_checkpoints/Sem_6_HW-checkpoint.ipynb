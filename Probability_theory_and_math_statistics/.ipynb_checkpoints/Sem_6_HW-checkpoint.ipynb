{
 "cells": [
  {
   "cell_type": "code",
   "execution_count": 6,
   "id": "2f2f019d",
   "metadata": {},
   "outputs": [],
   "source": [
    "import pandas as pd\n",
    "from scipy import stats\n",
    "import numpy as np"
   ]
  },
  {
   "cell_type": "markdown",
   "id": "6e66ed87",
   "metadata": {},
   "source": [
    "Задача 1\n",
    "\n",
    "Известно, что генеральная совокупность распределена нормально\n",
    "со средним квадратическим отклонением, равным 16.\n",
    "Найти доверительный интервал для оценки математического ожидания с надежностью 0.95,\n",
    "если выборочная средняя M = 80, а объем выборки n = 256.\n"
   ]
  },
  {
   "cell_type": "code",
   "execution_count": 10,
   "id": "b9079fc5",
   "metadata": {},
   "outputs": [],
   "source": [
    "X_mean = 80\n",
    "n = 256\n",
    "sigma = 16"
   ]
  },
  {
   "cell_type": "code",
   "execution_count": 9,
   "id": "249238fb",
   "metadata": {},
   "outputs": [
    {
     "data": {
      "text/plain": [
       "1.959963984540054"
      ]
     },
     "execution_count": 9,
     "metadata": {},
     "output_type": "execute_result"
    }
   ],
   "source": [
    "alfa_95 = stats.norm.ppf(0.975)\n",
    "alfa_95"
   ]
  },
  {
   "cell_type": "code",
   "execution_count": 11,
   "id": "33e1d84b",
   "metadata": {},
   "outputs": [
    {
     "data": {
      "text/plain": [
       "81.95996398454005"
      ]
     },
     "execution_count": 11,
     "metadata": {},
     "output_type": "execute_result"
    }
   ],
   "source": [
    "int_ver = X_mean + alfa_95*sigma/np.sqrt(n)\n",
    "int_ver"
   ]
  },
  {
   "cell_type": "code",
   "execution_count": 12,
   "id": "6775529a",
   "metadata": {},
   "outputs": [
    {
     "data": {
      "text/plain": [
       "78.04003601545995"
      ]
     },
     "execution_count": 12,
     "metadata": {},
     "output_type": "execute_result"
    }
   ],
   "source": [
    "int_niz = X_mean - alfa_95*sigma/np.sqrt(n)\n",
    "int_niz"
   ]
  },
  {
   "cell_type": "markdown",
   "id": "5b43dc4a",
   "metadata": {},
   "source": [
    "Задача 2\n",
    "\n",
    "В результате 10 независимых измерений некоторой величины X, выполненных с одинаковой точностью,\n",
    "получены опытные данные:\n",
    "6.9, 6.1, 6.2, 6.8, 7.5, 6.3, 6.4, 6.9, 6.7, 6.1\n",
    "Предполагая, что результаты измерений подчинены нормальному закону распределения вероятностей,\n",
    "оценить истинное значение величины X при помощи доверительного интервала, покрывающего это\n",
    "значение с доверительной вероятностью 0,95.\n"
   ]
  },
  {
   "cell_type": "code",
   "execution_count": 20,
   "id": "863c1d55",
   "metadata": {},
   "outputs": [],
   "source": [
    "X=np.array([6.9, 6.1, 6.2, 6.8, 7.5, 6.3, 6.4, 6.9, 6.7, 6.1])"
   ]
  },
  {
   "cell_type": "code",
   "execution_count": 21,
   "id": "71aece6f",
   "metadata": {},
   "outputs": [
    {
     "data": {
      "text/plain": [
       "10"
      ]
     },
     "execution_count": 21,
     "metadata": {},
     "output_type": "execute_result"
    }
   ],
   "source": [
    "n=len(X)\n",
    "n"
   ]
  },
  {
   "cell_type": "code",
   "execution_count": 22,
   "id": "26632946",
   "metadata": {},
   "outputs": [
    {
     "data": {
      "text/plain": [
       "6.590000000000001"
      ]
     },
     "execution_count": 22,
     "metadata": {},
     "output_type": "execute_result"
    }
   ],
   "source": [
    "X_mean=np.mean(X)\n",
    "X_mean"
   ]
  },
  {
   "cell_type": "code",
   "execution_count": 23,
   "id": "eb57d367",
   "metadata": {},
   "outputs": [
    {
     "data": {
      "text/plain": [
       "0.2032222222222223"
      ]
     },
     "execution_count": 23,
     "metadata": {},
     "output_type": "execute_result"
    }
   ],
   "source": [
    "X_var = np.var(X, ddof=1)\n",
    "X_var"
   ]
  },
  {
   "cell_type": "code",
   "execution_count": 24,
   "id": "d89af520",
   "metadata": {},
   "outputs": [
    {
     "data": {
      "text/plain": [
       "2.2621571627409915"
      ]
     },
     "execution_count": 24,
     "metadata": {},
     "output_type": "execute_result"
    }
   ],
   "source": [
    "t1=stats.t.ppf(0.975, 9)\n",
    "t1"
   ]
  },
  {
   "cell_type": "code",
   "execution_count": 25,
   "id": "97c61ab6",
   "metadata": {},
   "outputs": [
    {
     "data": {
      "text/plain": [
       "6.912484148584288"
      ]
     },
     "execution_count": 25,
     "metadata": {},
     "output_type": "execute_result"
    }
   ],
   "source": [
    "int_ver = X_mean + t1*np.sqrt(X_var/n)\n",
    "int_ver"
   ]
  },
  {
   "cell_type": "code",
   "execution_count": 26,
   "id": "2eee60fc",
   "metadata": {},
   "outputs": [
    {
     "data": {
      "text/plain": [
       "6.267515851415713"
      ]
     },
     "execution_count": 26,
     "metadata": {},
     "output_type": "execute_result"
    }
   ],
   "source": [
    "int_niz = X_mean - t1*np.sqrt(X_var/n)\n",
    "int_niz"
   ]
  },
  {
   "cell_type": "markdown",
   "id": "dad88cb4",
   "metadata": {},
   "source": [
    "Задача 3\n",
    "\n",
    "\n",
    "На препарате А положительный результат лечения наблюдается у 17 из 32 пациентов, а на препарате В у 9 из 22. Построить 95% доверительный интервал для разности долей.\n",
    "Обнаружены ли статистически значимые различия?\n"
   ]
  },
  {
   "cell_type": "code",
   "execution_count": 28,
   "id": "55b02594",
   "metadata": {},
   "outputs": [],
   "source": [
    "n1 = 32\n",
    "n2 = 22\n",
    "m1 = 17\n",
    "m2 = 9\n",
    "alfa_95 = 1.96"
   ]
  },
  {
   "cell_type": "code",
   "execution_count": 29,
   "id": "aeb35304",
   "metadata": {},
   "outputs": [
    {
     "data": {
      "text/plain": [
       "0.53125"
      ]
     },
     "execution_count": 29,
     "metadata": {},
     "output_type": "execute_result"
    }
   ],
   "source": [
    "p1 = m1/n1\n",
    "p1"
   ]
  },
  {
   "cell_type": "code",
   "execution_count": 30,
   "id": "99fa899a",
   "metadata": {},
   "outputs": [
    {
     "data": {
      "text/plain": [
       "0.4090909090909091"
      ]
     },
     "execution_count": 30,
     "metadata": {},
     "output_type": "execute_result"
    }
   ],
   "source": [
    "p2 = m2/n2\n",
    "p2"
   ]
  },
  {
   "cell_type": "code",
   "execution_count": 31,
   "id": "35aa49e1",
   "metadata": {},
   "outputs": [
    {
     "data": {
      "text/plain": [
       "0.12215909090909088"
      ]
     },
     "execution_count": 31,
     "metadata": {},
     "output_type": "execute_result"
    }
   ],
   "source": [
    "delta = p1 - p2\n",
    "delta"
   ]
  },
  {
   "cell_type": "code",
   "execution_count": 32,
   "id": "8ee57d23",
   "metadata": {},
   "outputs": [
    {
     "data": {
      "text/plain": [
       "0.48148148148148145"
      ]
     },
     "execution_count": 32,
     "metadata": {},
     "output_type": "execute_result"
    }
   ],
   "source": [
    "p_obshch = (m1+m2)/(n1+n2)\n",
    "p_obshch"
   ]
  },
  {
   "cell_type": "code",
   "execution_count": 33,
   "id": "7ce3ec35",
   "metadata": {},
   "outputs": [
    {
     "data": {
      "text/plain": [
       "0.6056153472305655"
      ]
     },
     "execution_count": 33,
     "metadata": {},
     "output_type": "execute_result"
    }
   ],
   "source": [
    "z = ((p1 - p2)-1/2*(1/n1 + 1/n2))/(np.sqrt(p_obshch*(1-p_obshch)*(1/n1 + 1/n2)))\n",
    "z"
   ]
  },
  {
   "cell_type": "code",
   "execution_count": 37,
   "id": "9040b248",
   "metadata": {},
   "outputs": [
    {
     "data": {
      "text/plain": [
       "0.13838291675576017"
      ]
     },
     "execution_count": 37,
     "metadata": {},
     "output_type": "execute_result"
    }
   ],
   "source": [
    "S_delta = np.sqrt(p_obshch*(1-p_obshch)*(1/n1 + 1/n2))\n",
    "S_delta"
   ]
  },
  {
   "cell_type": "code",
   "execution_count": 38,
   "id": "192cf856",
   "metadata": {},
   "outputs": [
    {
     "data": {
      "text/plain": [
       "0.3933896077503808"
      ]
     },
     "execution_count": 38,
     "metadata": {},
     "output_type": "execute_result"
    }
   ],
   "source": [
    "int_ver = delta + alfa_95*S_delta\n",
    "int_ver"
   ]
  },
  {
   "cell_type": "code",
   "execution_count": 39,
   "id": "3a11a5f4",
   "metadata": {},
   "outputs": [
    {
     "data": {
      "text/plain": [
       "-0.14907142593219902"
      ]
     },
     "execution_count": 39,
     "metadata": {},
     "output_type": "execute_result"
    }
   ],
   "source": [
    "int_niz = delta - alfa_95*S_delta\n",
    "int_niz"
   ]
  },
  {
   "cell_type": "markdown",
   "id": "664468bc",
   "metadata": {},
   "source": [
    "Интервал [-0,149; 0,393] проходит через 0, это означает, что нет статистически значимых различий."
   ]
  },
  {
   "cell_type": "code",
   "execution_count": null,
   "id": "e9a15deb",
   "metadata": {},
   "outputs": [],
   "source": []
  }
 ],
 "metadata": {
  "kernelspec": {
   "display_name": "Python 3 (ipykernel)",
   "language": "python",
   "name": "python3"
  },
  "language_info": {
   "codemirror_mode": {
    "name": "ipython",
    "version": 3
   },
   "file_extension": ".py",
   "mimetype": "text/x-python",
   "name": "python",
   "nbconvert_exporter": "python",
   "pygments_lexer": "ipython3",
   "version": "3.9.12"
  }
 },
 "nbformat": 4,
 "nbformat_minor": 5
}
