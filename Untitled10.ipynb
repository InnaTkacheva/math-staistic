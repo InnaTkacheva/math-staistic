{
 "cells": [
  {
   "cell_type": "code",
   "execution_count": 1,
   "id": "ec64a967",
   "metadata": {},
   "outputs": [],
   "source": [
    "import matplotlib.pyplot as plt\n",
    "import numpy as np\n",
    "\n",
    "import pandas as pd\n",
    "import scipy.stats as stats\n",
    "from sklearn.linear_model import LinearRegression"
   ]
  },
  {
   "cell_type": "code",
   "execution_count": 7,
   "id": "772a2c3c",
   "metadata": {},
   "outputs": [],
   "source": [
    "zp = np.array ([35, 45, 190, 200, 40, 70, 54, 150, 120, 110])\n",
    "ks = np.array ([401, 574, 874, 919, 459, 739, 653, 902, 746, 832])"
   ]
  },
  {
   "cell_type": "code",
   "execution_count": 3,
   "id": "2d5377c7",
   "metadata": {},
   "outputs": [
    {
     "name": "stdout",
     "output_type": "stream",
     "text": [
      "444.17735732435955\n",
      "[2.62053888]\n"
     ]
    }
   ],
   "source": [
    "model = LinearRegression ()\n",
    "zp = zp.reshape(-1,1)\n",
    "regres = model.fit(zp, ks)\n",
    "print(regres.intercept_)\n",
    "print(regres.coef_)"
   ]
  },
  {
   "cell_type": "code",
   "execution_count": 4,
   "id": "ed8b3677",
   "metadata": {},
   "outputs": [
    {
     "data": {
      "text/plain": [
       "10"
      ]
     },
     "execution_count": 4,
     "metadata": {},
     "output_type": "execute_result"
    }
   ],
   "source": [
    "n = len(zp)\n",
    "n"
   ]
  },
  {
   "cell_type": "code",
   "execution_count": 8,
   "id": "2ac43835",
   "metadata": {},
   "outputs": [
    {
     "data": {
      "text/plain": [
       "2.6205388824027653"
      ]
     },
     "execution_count": 8,
     "metadata": {},
     "output_type": "execute_result"
    }
   ],
   "source": [
    "b1 = (n*np.sum(zp*ks)-np.sum(zp)*np.sum(ks))/(n*np.sum(zp**2)-np.sum(zp)**2)\n",
    "b1"
   ]
  },
  {
   "cell_type": "code",
   "execution_count": 9,
   "id": "2b6f5fc3",
   "metadata": {},
   "outputs": [
    {
     "data": {
      "text/plain": [
       "444.17735732435955"
      ]
     },
     "execution_count": 9,
     "metadata": {},
     "output_type": "execute_result"
    }
   ],
   "source": [
    "b0 = np.mean(ks)-b1*np.mean(zp)\n",
    "b0"
   ]
  },
  {
   "cell_type": "code",
   "execution_count": 10,
   "id": "3b9cd06e",
   "metadata": {},
   "outputs": [],
   "source": [
    "def linear1(iks, b0, b1):\n",
    "    return b0+iks*b1"
   ]
  },
  {
   "cell_type": "code",
   "execution_count": 11,
   "id": "8a2900f3",
   "metadata": {},
   "outputs": [
    {
     "data": {
      "text/plain": [
       "array([[ 35],\n",
       "       [ 45],\n",
       "       [190],\n",
       "       [200],\n",
       "       [ 40],\n",
       "       [ 70],\n",
       "       [ 54],\n",
       "       [150],\n",
       "       [120],\n",
       "       [110]])"
      ]
     },
     "execution_count": 11,
     "metadata": {},
     "output_type": "execute_result"
    }
   ],
   "source": [
    "x = zp.reshape(10,1)\n",
    "x"
   ]
  },
  {
   "cell_type": "code",
   "execution_count": 12,
   "id": "0f0d070a",
   "metadata": {},
   "outputs": [
    {
     "name": "stdout",
     "output_type": "stream",
     "text": [
      "444.17735732435955 [2.62053888]\n"
     ]
    }
   ],
   "source": [
    "model.fit(x,ks)\n",
    "b0 = model.intercept_\n",
    "b1 = model.coef_\n",
    "print(b0,b1)"
   ]
  },
  {
   "cell_type": "code",
   "execution_count": 13,
   "id": "b80e19ae",
   "metadata": {},
   "outputs": [],
   "source": [
    "def linear2(iks, b1):\n",
    "    return iks*b1"
   ]
  },
  {
   "cell_type": "code",
   "execution_count": 14,
   "id": "f196e6ae",
   "metadata": {},
   "outputs": [
    {
     "name": "stdout",
     "output_type": "stream",
     "text": [
      "[2.62053888]\n"
     ]
    }
   ],
   "source": [
    "model.fit(x,ks)\n",
    "b1 = model.coef_\n",
    "print(b1)"
   ]
  },
  {
   "cell_type": "code",
   "execution_count": null,
   "id": "8d482af5",
   "metadata": {},
   "outputs": [],
   "source": [
    "### Задача 2\n",
    "Посчитать коэффициент линейной регрессии при заработной плате (zp), используя градиентный спуск (без intercept).\n"
   ]
  },
  {
   "cell_type": "code",
   "execution_count": 15,
   "id": "ae38d0b7",
   "metadata": {},
   "outputs": [],
   "source": [
    "def mse (b1, y=ks, x=zp, n=len(zp)):\n",
    "    return np.sum((b1*x-y)**2)/n"
   ]
  },
  {
   "cell_type": "code",
   "execution_count": 16,
   "id": "bc4f8993",
   "metadata": {},
   "outputs": [
    {
     "data": {
      "text/plain": [
       "1e-06"
      ]
     },
     "execution_count": 16,
     "metadata": {},
     "output_type": "execute_result"
    }
   ],
   "source": [
    "alpha = 1e-6\n",
    "alpha"
   ]
  },
  {
   "cell_type": "code",
   "execution_count": 17,
   "id": "24a7920a",
   "metadata": {},
   "outputs": [
    {
     "data": {
      "text/plain": [
       "59.115480206118605"
      ]
     },
     "execution_count": 17,
     "metadata": {},
     "output_type": "execute_result"
    }
   ],
   "source": [
    "std1=np.std(zp)\n",
    "std1"
   ]
  },
  {
   "cell_type": "code",
   "execution_count": 18,
   "id": "6af2ca16",
   "metadata": {},
   "outputs": [
    {
     "data": {
      "text/plain": [
       "5.9115480206118605"
      ]
     },
     "execution_count": 18,
     "metadata": {},
     "output_type": "execute_result"
    }
   ],
   "source": [
    "b1=std1/10\n",
    "b1"
   ]
  },
  {
   "cell_type": "code",
   "execution_count": 20,
   "id": "a38ebabd",
   "metadata": {},
   "outputs": [
    {
     "name": "stdout",
     "output_type": "stream",
     "text": [
      "b1=5.748868755690338\n",
      "b1=5.590671825091051\n",
      "b1=5.436833726159953\n",
      "b1=5.287234359136322\n",
      "b1=5.141756933392167\n",
      "b1=5.000287876255026\n",
      "b1=4.862716744342996\n",
      "b1=4.728936137342765\n",
      "b1=4.598841614163332\n",
      "b1=4.472331611399967\n"
     ]
    }
   ],
   "source": [
    "y=1\n",
    "for i in range(10):\n",
    "    b1-=alpha*(2/n)*np.sum((b1*x-y)*x)\n",
    "    print(\"b1={}\".format(b1))"
   ]
  },
  {
   "cell_type": "code",
   "execution_count": null,
   "id": "85a8d34d",
   "metadata": {},
   "outputs": [],
   "source": []
  },
  {
   "cell_type": "code",
   "execution_count": null,
   "id": "801cda52",
   "metadata": {},
   "outputs": [],
   "source": []
  },
  {
   "cell_type": "code",
   "execution_count": null,
   "id": "f2c0f800",
   "metadata": {},
   "outputs": [],
   "source": []
  }
 ],
 "metadata": {
  "kernelspec": {
   "display_name": "Python 3 (ipykernel)",
   "language": "python",
   "name": "python3"
  },
  "language_info": {
   "codemirror_mode": {
    "name": "ipython",
    "version": 3
   },
   "file_extension": ".py",
   "mimetype": "text/x-python",
   "name": "python",
   "nbconvert_exporter": "python",
   "pygments_lexer": "ipython3",
   "version": "3.9.12"
  }
 },
 "nbformat": 4,
 "nbformat_minor": 5
}
