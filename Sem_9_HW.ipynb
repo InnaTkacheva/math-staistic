{
 "cells": [
  {
   "cell_type": "code",
   "execution_count": 4,
   "id": "5e58d647",
   "metadata": {},
   "outputs": [],
   "source": [
    "import matplotlib.pyplot as plt\n",
    "import numpy as np\n",
    "\n",
    "import pandas as pd\n",
    "import scipy.stats as stats\n",
    "from sklearn.linear_model import LinearRegression"
   ]
  },
  {
   "cell_type": "markdown",
   "id": "ad5c2804",
   "metadata": {},
   "source": [
    "### Задача 1 \n",
    "\n",
    "Даны значения величины заработной платы заемщиков банка (zp) и значения их поведенческого кредитного скоринга (ks): \n",
    "\n",
    "zp = [35, 45, 190, 200, 40, 70, 54, 150, 120, 110], \n",
    "\n",
    "ks = [401, 574, 874, 919, 459, 739, 653, 902, 746, 832]. \n",
    "\n",
    "Используя математические операции, посчитать коэффициенты линейной регрессии, приняв за X заработную плату (то есть, zp - признак), а за y - значения скорингового балла (то есть, ks - целевая переменная). Произвести расчет как с использованием intercept, так и без.\n"
   ]
  },
  {
   "cell_type": "code",
   "execution_count": 46,
   "id": "910714f3",
   "metadata": {},
   "outputs": [],
   "source": [
    "zp = np.array ([35, 45, 190, 200, 40, 70, 54, 150, 120, 110])\n",
    "ks = np.array ([401, 574, 874, 919, 459, 739, 653, 902, 746, 832])"
   ]
  },
  {
   "cell_type": "markdown",
   "id": "885bb726",
   "metadata": {},
   "source": [
    "коэффициенты линейной регрессии, где X - признак (zp), Y - целевая переменная (ks)\n",
    "\n",
    "Ф-ия regres"
   ]
  },
  {
   "cell_type": "code",
   "execution_count": 15,
   "id": "4c56a671",
   "metadata": {},
   "outputs": [
    {
     "name": "stdout",
     "output_type": "stream",
     "text": [
      "444.17735732435955\n",
      "[2.62053888]\n"
     ]
    }
   ],
   "source": [
    "model = LinearRegression ()\n",
    "zp = zp.reshape(-1,1)\n",
    "regres = model.fit(zp, ks)\n",
    "print(regres.intercept_)\n",
    "print(regres.coef_)"
   ]
  },
  {
   "cell_type": "markdown",
   "id": "2389f523",
   "metadata": {},
   "source": [
    "Модель вида: y = 444.17 + 2.62*x"
   ]
  },
  {
   "cell_type": "markdown",
   "id": "a52950c6",
   "metadata": {},
   "source": [
    "коэффициент линейной регрессии:\n",
    "\n",
    "расчет коэф по формуле"
   ]
  },
  {
   "cell_type": "code",
   "execution_count": 47,
   "id": "42e29c84",
   "metadata": {},
   "outputs": [
    {
     "data": {
      "text/plain": [
       "10"
      ]
     },
     "execution_count": 47,
     "metadata": {},
     "output_type": "execute_result"
    }
   ],
   "source": [
    "n = len(zp)\n",
    "n"
   ]
  },
  {
   "cell_type": "code",
   "execution_count": 48,
   "id": "9777acf8",
   "metadata": {},
   "outputs": [
    {
     "data": {
      "text/plain": [
       "2.6205388824027653"
      ]
     },
     "execution_count": 48,
     "metadata": {},
     "output_type": "execute_result"
    }
   ],
   "source": [
    "b1 = (n*np.sum(zp*ks)-np.sum(ks)*np.sum(zp))/(n*np.sum(zp**2)-np.sum(zp)**2)\n",
    "b1"
   ]
  },
  {
   "cell_type": "code",
   "execution_count": 49,
   "id": "1f483284",
   "metadata": {},
   "outputs": [
    {
     "data": {
      "text/plain": [
       "444.17735732435955"
      ]
     },
     "execution_count": 49,
     "metadata": {},
     "output_type": "execute_result"
    }
   ],
   "source": [
    "b0 = np.mean(ks)-b1*np.mean(zp)\n",
    "b0"
   ]
  },
  {
   "cell_type": "markdown",
   "id": "23d215e9",
   "metadata": {},
   "source": [
    "Модель вида: y = 444.17 + 2.62*x"
   ]
  },
  {
   "cell_type": "markdown",
   "id": "2ad807d9",
   "metadata": {},
   "source": [
    "коэффициент линейной регрессии:\n",
    "\n",
    "матричный метод"
   ]
  },
  {
   "cell_type": "code",
   "execution_count": 50,
   "id": "51d1f01d",
   "metadata": {},
   "outputs": [],
   "source": [
    "def linear1(iks, b0, b1):\n",
    "    return b0+iks*b1"
   ]
  },
  {
   "cell_type": "code",
   "execution_count": 51,
   "id": "7b7d15e0",
   "metadata": {},
   "outputs": [
    {
     "data": {
      "text/plain": [
       "array([[ 35],\n",
       "       [ 45],\n",
       "       [190],\n",
       "       [200],\n",
       "       [ 40],\n",
       "       [ 70],\n",
       "       [ 54],\n",
       "       [150],\n",
       "       [120],\n",
       "       [110]])"
      ]
     },
     "execution_count": 51,
     "metadata": {},
     "output_type": "execute_result"
    }
   ],
   "source": [
    "x = zp.reshape(10,1)\n",
    "x"
   ]
  },
  {
   "cell_type": "code",
   "execution_count": 52,
   "id": "81394210",
   "metadata": {},
   "outputs": [
    {
     "name": "stdout",
     "output_type": "stream",
     "text": [
      "444.17735732435955 [2.62053888]\n"
     ]
    }
   ],
   "source": [
    "model.fit(x,ks)\n",
    "b0 = model.intercept_\n",
    "b1 = model.coef_\n",
    "print(b0,b1)"
   ]
  },
  {
   "cell_type": "markdown",
   "id": "bbb7a999",
   "metadata": {},
   "source": [
    "Модель вида: y = 444.17 + 2.62*x"
   ]
  },
  {
   "cell_type": "code",
   "execution_count": 53,
   "id": "8c836b32",
   "metadata": {},
   "outputs": [],
   "source": [
    "def linear2(iks, b1):\n",
    "    return iks*b1"
   ]
  },
  {
   "cell_type": "code",
   "execution_count": 54,
   "id": "641bebfb",
   "metadata": {},
   "outputs": [
    {
     "name": "stdout",
     "output_type": "stream",
     "text": [
      "[2.62053888]\n"
     ]
    }
   ],
   "source": [
    "model.fit(x,ks)\n",
    "b1 = model.coef_\n",
    "print(b1)"
   ]
  },
  {
   "cell_type": "markdown",
   "id": "12cb0912",
   "metadata": {},
   "source": [
    "Модель вида: y = 2.62*x"
   ]
  },
  {
   "cell_type": "markdown",
   "id": "e962c3df",
   "metadata": {},
   "source": [
    "### Задача 2\n",
    "Посчитать коэффициент линейной регрессии при заработной плате (zp), используя градиентный спуск (без intercept).\n"
   ]
  },
  {
   "cell_type": "code",
   "execution_count": 55,
   "id": "18b7daf5",
   "metadata": {},
   "outputs": [],
   "source": [
    "def mse (b1, y=ks, x=zp, n=len(zp)):\n",
    "    return np.sum((b1*x-y)**2)/n"
   ]
  },
  {
   "cell_type": "code",
   "execution_count": 56,
   "id": "8210b97c",
   "metadata": {},
   "outputs": [
    {
     "data": {
      "text/plain": [
       "1e-06"
      ]
     },
     "execution_count": 56,
     "metadata": {},
     "output_type": "execute_result"
    }
   ],
   "source": [
    "alpha = 1e-6\n",
    "alpha"
   ]
  },
  {
   "cell_type": "code",
   "execution_count": 57,
   "id": "790c1666",
   "metadata": {},
   "outputs": [
    {
     "data": {
      "text/plain": [
       "59.115480206118605"
      ]
     },
     "execution_count": 57,
     "metadata": {},
     "output_type": "execute_result"
    }
   ],
   "source": [
    "std1=np.std(zp)\n",
    "std1"
   ]
  },
  {
   "cell_type": "code",
   "execution_count": 58,
   "id": "dc54d3d5",
   "metadata": {},
   "outputs": [
    {
     "data": {
      "text/plain": [
       "5.9115480206118605"
      ]
     },
     "execution_count": 58,
     "metadata": {},
     "output_type": "execute_result"
    }
   ],
   "source": [
    "b1=std1/10\n",
    "b1"
   ]
  },
  {
   "cell_type": "code",
   "execution_count": 64,
   "id": "bb26141f",
   "metadata": {},
   "outputs": [],
   "source": [
    "#mse = 1/n*np.sum((b1*zp-ks)**2)\n",
    "#mse"
   ]
  },
  {
   "cell_type": "code",
   "execution_count": 65,
   "id": "06a4a9bf",
   "metadata": {},
   "outputs": [],
   "source": [
    "#mse = (2/n)*np.sum((b1*zp-ks)*zp)\n",
    "#mse"
   ]
  },
  {
   "cell_type": "code",
   "execution_count": 60,
   "id": "aac33a4b",
   "metadata": {},
   "outputs": [
    {
     "name": "stdout",
     "output_type": "stream",
     "text": [
      "b1=5.910949355690338\n",
      "b1=5.910367185903131\n",
      "b1=5.909801056756505\n",
      "b1=5.909250526279481\n",
      "b1=5.908715164678798\n",
      "b1=5.90819455400337\n",
      "b1=5.907688287818004\n",
      "b1=5.9071959708860975\n",
      "b1=5.906717218861079\n",
      "b1=5.906251657986356\n"
     ]
    }
   ],
   "source": [
    "for i in range(10):\n",
    "    b1-=alpha*(2/n)*np.sum((b1*zp-ks)*zp)\n",
    "    print(\"b1={}\".format(b1))"
   ]
  },
  {
   "cell_type": "code",
   "execution_count": 61,
   "id": "c54d5f69",
   "metadata": {},
   "outputs": [
    {
     "name": "stdout",
     "output_type": "stream",
     "text": [
      "Iteration=0, b1=5.905798924803527, mse=56520.3757554432\n",
      "Iteration=500, b1=5.889820433824533, mse=56516.85841571941\n",
      "Iteration=1000, b1=5.889820420132705, mse=56516.8584157194\n",
      "Iteration=1500, b1=5.889820420132705, mse=56516.8584157194\n",
      "Iteration=2000, b1=5.889820420132705, mse=56516.8584157194\n",
      "Iteration=2500, b1=5.889820420132705, mse=56516.8584157194\n"
     ]
    }
   ],
   "source": [
    "for i in range(3000):\n",
    "    b1-=alpha*(2/n)*np.sum((b1*zp-ks)*zp)\n",
    "    if i%500==0:\n",
    "        print(\"Iteration={i}, b1={b1}, mse={mse}\".format(i=i, b1=b1, mse=mse(b1)))"
   ]
  },
  {
   "cell_type": "markdown",
   "id": "7068468d",
   "metadata": {},
   "source": [
    "Модель вида: y = 5.889*x"
   ]
  },
  {
   "cell_type": "markdown",
   "id": "2cf6111d",
   "metadata": {},
   "source": [
    "### Задача 3*\n",
    "\n",
    "Произвести вычисления как в пункте 2, но с вычислением intercept. Учесть, что изменение коэффициентов должно производиться на каждом шаге одновременно (то есть изменение одного коэффициента не должно влиять на изменение другого во время одной итерации). (cо звёздочкой)"
   ]
  },
  {
   "cell_type": "code",
   "execution_count": 30,
   "id": "15cd20f0",
   "metadata": {},
   "outputs": [
    {
     "data": {
      "text/plain": [
       "1e-06"
      ]
     },
     "execution_count": 30,
     "metadata": {},
     "output_type": "execute_result"
    }
   ],
   "source": [
    "alpha_1 = 1e-6\n",
    "alpha_1"
   ]
  },
  {
   "cell_type": "code",
   "execution_count": 98,
   "id": "2434f8c4",
   "metadata": {},
   "outputs": [
    {
     "name": "stdout",
     "output_type": "stream",
     "text": [
      "[444.17735732   2.62053888]\n",
      "Увеличим число итераций\n",
      "0 [444.17735732   2.62053888]\n",
      "500 [444.17735732   2.62053888]\n",
      "1000 [444.17735732   2.62053888]\n",
      "1500 [444.17735732   2.62053888]\n",
      "2000 [444.17735732   2.62053888]\n",
      "2500 [444.17735732   2.62053888]\n"
     ]
    }
   ],
   "source": [
    "X = np.array ([[1,1,1,1,1,1,1,1,1,1], [35, 45, 190, 200, 40, 70, 54, 150, 120, 110]])\n",
    "Y = np.array ([401, 574, 874, 919, 459, 739, 653, 902, 746, 832])\n",
    "\n",
    "W = np.linalg.inv(np.dot(X,X.T)) @ X @ Y.T\n",
    "\n",
    "gradient_form_direct = alpha_1* (2/10 * np.sum(X[0]*W[0]-Y[0]))\n",
    "print(W)\n",
    "print(\"Увеличим число итераций\")\n",
    "\n",
    "\n",
    "for i in range(3000):\n",
    "    gradient_form = np.dot(W, X)\n",
    "    W = W - (alpha_1 * (2/10 * np.dot((gradient_form - Y), X.T)))\n",
    "    if i%500==0:\n",
    "        print(i, W)"
   ]
  }
 ],
 "metadata": {
  "kernelspec": {
   "display_name": "Python 3 (ipykernel)",
   "language": "python",
   "name": "python3"
  },
  "language_info": {
   "codemirror_mode": {
    "name": "ipython",
    "version": 3
   },
   "file_extension": ".py",
   "mimetype": "text/x-python",
   "name": "python",
   "nbconvert_exporter": "python",
   "pygments_lexer": "ipython3",
   "version": "3.9.12"
  }
 },
 "nbformat": 4,
 "nbformat_minor": 5
}
