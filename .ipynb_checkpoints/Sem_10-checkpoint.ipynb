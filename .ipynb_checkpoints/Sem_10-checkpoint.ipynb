{
 "cells": [
  {
   "cell_type": "code",
   "execution_count": 1,
   "id": "2068d3b6",
   "metadata": {},
   "outputs": [],
   "source": [
    "import matplotlib.pyplot as plt\n",
    "import numpy as np\n",
    "\n",
    "import pandas as pd\n",
    "import scipy.stats as stats"
   ]
  },
  {
   "cell_type": "markdown",
   "id": "5b0aec67",
   "metadata": {},
   "source": [
    "### Задача 1\n",
    "\n",
    "Есть ли различие между процентным содержанием изотопов плутония? Используйте функции в Python\n",
    "Провести предварительный разведочный анализ (проверку на нормальность и   равенство дисперсий*)\n",
    "\n",
    "pu_238: \n",
    " 0.126, 0.133, 0.127, 0.156, 0.503, 0.113, 0.129, 0.124, 1.022, 1.412, 1.533, 1.534, 1.437, 1.439, 1.375, 1.153, 0.201, 0.176, 0.239, 0.102, 1.070, 0.851, 0.125, 0.142, 0.352, 0.351, 0.346, 0.217, 1.068, 1.171, 1.213, 1.226, 1.111, 0.183, 0.162, 0.113, 1.309, 1.638, 1.589, 1.411, 1.457, 0.397, 0.328, 0.242, 1.367\n",
    "\n",
    "pu_239: \n",
    "75.804, 75.515, 75.175, 78.872, 73.317, 79.116, 75.751, 75.326, 63.287, 59.553, 58.688, 58.758, 59.728, 59.544, 59.877, 61.182, 78.244, 78.166, 74.254, 79.840,  62.455, 73.189, 75.968, 75.957, 72.885,72.907, 72.919, 76.089, 70.129, 69.273, 69.147, 68.294, 71.076, 75.714, 76.150, 77.845, 62.382, 60.112, 60.519, 61.585,   61.332, 72.291, 73.451, 74.888, 60.507\n",
    "\n",
    "pu_240:\n",
    " 21.204, 21.408, 21.668, 18.428, 20.223, 18.548, 21.162, 21.557, 24.493, 25.576, 25.719, 25.692, 25.146, 25.126, 25.128, 25.100, 18.488, 18.629, 21.515, 17.872, 24.656, 18.285,   20.794, 20.867, 21.718, 21.721, 21.713, 20.225, 18.573, 18.633, 18.640, 18.869, 18.122, 20.750, 20.345, 19.108, 22.754, 23.320, 23.128, 23.133, 23.239,  21.761, 21.429, 20.939, 23.603\n",
    "\n",
    "pu_241: 2.180, 2.240, 2.305, 1.906, 4.128, 1.690, 2.260, 2.282, 6.990, 8.027, 8.279, 8.261, 8.377, 8.569, 8.428, 7.802, 2.351, 2.365, 2.901, 1.674, 7.512,  5.597, 2.407, 2.341, 3.618, 3.601, 3.600, 2.556, 7.689, 8.300, 8.363, 8.826, 7.248, 2.488, 2.524, 2.275, 9.311, 9.972, 9.970, 9.339, 9.321, 3.836, 3.419, 2.875, 9.839\n"
   ]
  },
  {
   "cell_type": "code",
   "execution_count": 3,
   "id": "da6df596",
   "metadata": {},
   "outputs": [],
   "source": [
    "pu_238 = np.array ([0.126, 0.133, 0.127, 0.156, 0.503, 0.113, 0.129, 0.124, 1.022, 1.412, 1.533, 1.534, 1.437, 1.439, 1.375, 1.153, 0.201, 0.176, 0.239, 0.102, 1.070, 0.851, 0.125, 0.142, 0.352, 0.351, 0.346, 0.217, 1.068, 1.171, 1.213, 1.226, 1.111, 0.183, 0.162, 0.113, 1.309, 1.638, 1.589, 1.411, 1.457, 0.397, 0.328, 0.242, 1.367])\n",
    "\n",
    "pu_239 = np.array ([75.804, 75.515, 75.175, 78.872, 73.317, 79.116, 75.751, 75.326, 63.287, 59.553, 58.688, 58.758, 59.728, 59.544, 59.877, 61.182, 78.244, 78.166, 74.254, 79.840,  62.455, 73.189, 75.968, 75.957, 72.885,72.907, 72.919, 76.089, 70.129, 69.273, 69.147, 68.294, 71.076, 75.714, 76.150, 77.845, 62.382, 60.112, 60.519, 61.585,   61.332, 72.291, 73.451, 74.888, 60.507])\n",
    "\n",
    "pu_240 = np.array ([21.204, 21.408, 21.668, 18.428, 20.223, 18.548, 21.162, 21.557, 24.493, 25.576, 25.719, 25.692, 25.146, 25.126, 25.128, 25.100, 18.488, 18.629, 21.515, 17.872, 24.656, 18.285,   20.794, 20.867, 21.718, 21.721, 21.713, 20.225, 18.573, 18.633, 18.640, 18.869, 18.122, 20.750, 20.345, 19.108, 22.754, 23.320, 23.128, 23.133, 23.239,  21.761, 21.429, 20.939, 23.603])\n",
    "\n",
    "pu_241 = np.array ([2.180, 2.240, 2.305, 1.906, 4.128, 1.690, 2.260, 2.282, 6.990, 8.027, 8.279, 8.261, 8.377, 8.569, 8.428, 7.802, 2.351, 2.365, 2.901, 1.674, 7.512,  5.597, 2.407, 2.341, 3.618, 3.601, 3.600, 2.556, 7.689, 8.300, 8.363, 8.826, 7.248, 2.488, 2.524, 2.275, 9.311, 9.972, 9.970, 9.339, 9.321, 3.836, 3.419, 2.875, 9.839])"
   ]
  },
  {
   "cell_type": "markdown",
   "id": "d4b27409",
   "metadata": {},
   "source": [
    "Проверка на нормальность"
   ]
  },
  {
   "cell_type": "code",
   "execution_count": 4,
   "id": "26a92591",
   "metadata": {},
   "outputs": [
    {
     "data": {
      "text/plain": [
       "ShapiroResult(statistic=0.8199635744094849, pvalue=6.733238933520624e-06)"
      ]
     },
     "execution_count": 4,
     "metadata": {},
     "output_type": "execute_result"
    }
   ],
   "source": [
    "stats.shapiro(pu_238)"
   ]
  },
  {
   "cell_type": "markdown",
   "id": "2625937b",
   "metadata": {},
   "source": [
    "pvalue=6.7 маленькое, значит верна гипотеза альтернативная и значит что распределение не нормальное"
   ]
  },
  {
   "cell_type": "code",
   "execution_count": 5,
   "id": "b746fedb",
   "metadata": {},
   "outputs": [
    {
     "data": {
      "text/plain": [
       "ShapiroResult(statistic=0.8647032976150513, pvalue=8.951327617978677e-05)"
      ]
     },
     "execution_count": 5,
     "metadata": {},
     "output_type": "execute_result"
    }
   ],
   "source": [
    "stats.shapiro(pu_239)"
   ]
  },
  {
   "cell_type": "code",
   "execution_count": 6,
   "id": "bcc88914",
   "metadata": {},
   "outputs": [
    {
     "data": {
      "text/plain": [
       "ShapiroResult(statistic=0.9316778182983398, pvalue=0.010755515657365322)"
      ]
     },
     "execution_count": 6,
     "metadata": {},
     "output_type": "execute_result"
    }
   ],
   "source": [
    "stats.shapiro(pu_240)"
   ]
  },
  {
   "cell_type": "markdown",
   "id": "cf87860e",
   "metadata": {},
   "source": [
    "pu_240 близко к нормальному распределению, если альфа 0,01"
   ]
  },
  {
   "cell_type": "code",
   "execution_count": 7,
   "id": "5b716aca",
   "metadata": {},
   "outputs": [
    {
     "data": {
      "text/plain": [
       "ShapiroResult(statistic=0.8336212635040283, pvalue=1.4246789760363754e-05)"
      ]
     },
     "execution_count": 7,
     "metadata": {},
     "output_type": "execute_result"
    }
   ],
   "source": [
    "stats.shapiro(pu_241)"
   ]
  },
  {
   "cell_type": "markdown",
   "id": "f79c8da9",
   "metadata": {},
   "source": [
    "Все ненормальные!"
   ]
  },
  {
   "cell_type": "markdown",
   "id": "c687f6e5",
   "metadata": {},
   "source": [
    "Равенство дисперсий не будем проверять, так как нет нормальности распределения"
   ]
  },
  {
   "cell_type": "markdown",
   "id": "3d9bb0af",
   "metadata": {},
   "source": [
    "Исрользуем Крускала-Уоллиса"
   ]
  },
  {
   "cell_type": "code",
   "execution_count": 8,
   "id": "e9e6b3c4",
   "metadata": {},
   "outputs": [
    {
     "data": {
      "text/plain": [
       "KruskalResult(statistic=167.8178522154513, pvalue=3.76478949748032e-36)"
      ]
     },
     "execution_count": 8,
     "metadata": {},
     "output_type": "execute_result"
    }
   ],
   "source": [
    "stats.kruskal(pu_238, pu_239, pu_240, pu_241)"
   ]
  },
  {
   "cell_type": "markdown",
   "id": "7ccd52f4",
   "metadata": {},
   "source": [
    "pvalue=3.76478949748032e-36 маленький. значит вернаальтергипотеза. Между плутониями есть статистичски значимые различия"
   ]
  },
  {
   "cell_type": "markdown",
   "id": "bf930902",
   "metadata": {},
   "source": [
    "### Задача 2\n",
    "\n",
    "Даны квартальные прибыли акции Johnson&Johnson с 1960-1980 гг\n",
    "Есть ли различия прибыли между 4-мя кварталами?\n",
    "Провести EDA (проверка на нормальность, проверка на однородность дисперсий с помощью Барлетт теста from scipy.stats import bartlett)\n",
    "\n",
    "Учитывайте при выборе теста тот факт, что при сбалансированных данных (выборки одинакового объема), неоднородность дисперсий слабо влияет на результат)\n",
    "\n",
    "\t\t\t\t\t\t\n",
    "JJ_1=np.array([0.71, 0.63, 0.85, 0.44, 0.61, 0.69, 0.92, 0.55, 0.72, 0.77, 0.92, 0.60, 0.83, 0.80, 1.00, 0.77, 0.92, 1.00, 1.24, 1.00, 1.16 ]) \n",
    "\n",
    "JJ_2=np.array([1.30, 1.45, 1.25, 1.26, 1.38, 1.86, 1.56, 1.53, 1.59, 1.83, 1.86, 1.53, 2.07, 2.34, 2.25, 2.16, 2.43, 2.70, 2.25, 2.79, 3.42 ]) \n",
    "\n",
    "JJ_3=np.array([3.69, 3.60, 3.60, 4.32, 4.32, 4.05, 4.86, 5.04, 5.04, 4.41, 5.58, 5.85, 6.57, 5.31, 6.03, 6.39, 6.93, 5.85, 6.93, 7.74, 7.83])\n",
    "\n",
    " JJ_4=np.array([6.12, 7.74, 8.91, 8.28, 6.84, 9.54, 10.26, 9.54, 8.73, 11.88, 12.06, 12.15, 8.91, 14.04, 12.96, 14.85, 9.99, 16.20, 14.67, 16.02, 11.61 ])\n"
   ]
  },
  {
   "cell_type": "code",
   "execution_count": 11,
   "id": "5e04aeb8",
   "metadata": {},
   "outputs": [],
   "source": [
    "JJ_1=np.array([0.71, 0.63, 0.85, 0.44, 0.61, 0.69, 0.92, 0.55, 0.72, 0.77, 0.92, 0.60, 0.83, 0.80, 1.00, 0.77, 0.92, 1.00, 1.24, 1.00, 1.16 ]) \n",
    "\n",
    "JJ_2=np.array([1.30, 1.45, 1.25, 1.26, 1.38, 1.86, 1.56, 1.53, 1.59, 1.83, 1.86, 1.53, 2.07, 2.34, 2.25, 2.16, 2.43, 2.70, 2.25, 2.79, 3.42 ]) \n",
    "\n",
    "JJ_3=np.array([3.69, 3.60, 3.60, 4.32, 4.32, 4.05, 4.86, 5.04, 5.04, 4.41, 5.58, 5.85, 6.57, 5.31, 6.03, 6.39, 6.93, 5.85, 6.93, 7.74, 7.83])\n",
    "\n",
    "JJ_4=np.array([6.12, 7.74, 8.91, 8.28, 6.84, 9.54, 10.26, 9.54, 8.73, 11.88, 12.06, 12.15, 8.91, 14.04, 12.96, 14.85, 9.99, 16.20, 14.67, 16.02, 11.61 ])\n"
   ]
  },
  {
   "cell_type": "markdown",
   "id": "a0492747",
   "metadata": {},
   "source": [
    "Проверка на нормальность"
   ]
  },
  {
   "cell_type": "code",
   "execution_count": 12,
   "id": "f1dd58d0",
   "metadata": {},
   "outputs": [
    {
     "data": {
      "text/plain": [
       "ShapiroResult(statistic=0.9837696552276611, pvalue=0.9688368439674377)"
      ]
     },
     "execution_count": 12,
     "metadata": {},
     "output_type": "execute_result"
    }
   ],
   "source": [
    "stats.shapiro(JJ_1)"
   ]
  },
  {
   "cell_type": "code",
   "execution_count": 13,
   "id": "8a03413f",
   "metadata": {},
   "outputs": [
    {
     "data": {
      "text/plain": [
       "ShapiroResult(statistic=0.9252572059631348, pvalue=0.11057735979557037)"
      ]
     },
     "execution_count": 13,
     "metadata": {},
     "output_type": "execute_result"
    }
   ],
   "source": [
    "stats.shapiro(JJ_2)"
   ]
  },
  {
   "cell_type": "code",
   "execution_count": 14,
   "id": "11b8ec07",
   "metadata": {},
   "outputs": [
    {
     "data": {
      "text/plain": [
       "ShapiroResult(statistic=0.9523220062255859, pvalue=0.3765488862991333)"
      ]
     },
     "execution_count": 14,
     "metadata": {},
     "output_type": "execute_result"
    }
   ],
   "source": [
    "stats.shapiro(JJ_3)"
   ]
  },
  {
   "cell_type": "code",
   "execution_count": 15,
   "id": "1083c7a3",
   "metadata": {},
   "outputs": [
    {
     "data": {
      "text/plain": [
       "ShapiroResult(statistic=0.9590807557106018, pvalue=0.49780386686325073)"
      ]
     },
     "execution_count": 15,
     "metadata": {},
     "output_type": "execute_result"
    }
   ],
   "source": [
    "stats.shapiro(JJ_4)"
   ]
  },
  {
   "cell_type": "markdown",
   "id": "4696614d",
   "metadata": {},
   "source": [
    "все pvalue > alfa 0.05, значит нормальное распределение в выборках."
   ]
  },
  {
   "cell_type": "markdown",
   "id": "842685b6",
   "metadata": {},
   "source": [
    "Постоим QQ график и посмотрим на графике нормальное распределение (красная линия) и отклонения (синие точки)"
   ]
  },
  {
   "cell_type": "code",
   "execution_count": 17,
   "id": "8a815ea2",
   "metadata": {},
   "outputs": [
    {
     "data": {
      "image/png": "[encoded data removed]",
      "text/plain": [
       "<Figure size 432x288 with 1 Axes>"
      ]
     },
     "metadata": {
      "needs_background": "light"
     },
     "output_type": "display_data"
    }
   ],
   "source": [
    "import pylab\n",
    "\n",
    "stats.probplot(JJ_1,dist='norm',plot=pylab)\n",
    "pylab.show()"
   ]
  },
  {
   "cell_type": "markdown",
   "id": "155300bc",
   "metadata": {},
   "source": [
    "по графику видно, что данные разбросаны недалеко, поэтому нормальное распределение"
   ]
  },
  {
   "cell_type": "markdown",
   "id": "abf58d51",
   "metadata": {},
   "source": [
    "Проверяем на однородность  дисперсий между разными выборками (равенство дисперсий)"
   ]
  },
  {
   "cell_type": "code",
   "execution_count": 20,
   "id": "a3706f72",
   "metadata": {},
   "outputs": [
    {
     "data": {
      "text/plain": [
       "BartlettResult(statistic=109.62893110687119, pvalue=1.3188378332498392e-23)"
      ]
     },
     "execution_count": 20,
     "metadata": {},
     "output_type": "execute_result"
    }
   ],
   "source": [
    "stats.bartlett(JJ_1, JJ_2, JJ_3, JJ_4)"
   ]
  },
  {
   "cell_type": "markdown",
   "id": "968d79da",
   "metadata": {},
   "source": [
    "pvalue=1.3188378332498392e-23 < alfa, верна альтернативная гипотеза и значит дисперсии не однородны"
   ]
  },
  {
   "cell_type": "markdown",
   "id": "57560850",
   "metadata": {},
   "source": [
    "Проверяем одинаковые ли длины у выборок (len)"
   ]
  },
  {
   "cell_type": "code",
   "execution_count": 21,
   "id": "84326996",
   "metadata": {},
   "outputs": [
    {
     "data": {
      "text/plain": [
       "21"
      ]
     },
     "execution_count": 21,
     "metadata": {},
     "output_type": "execute_result"
    }
   ],
   "source": [
    "len(JJ_1)"
   ]
  },
  {
   "cell_type": "code",
   "execution_count": 22,
   "id": "bad2c90a",
   "metadata": {},
   "outputs": [
    {
     "data": {
      "text/plain": [
       "21"
      ]
     },
     "execution_count": 22,
     "metadata": {},
     "output_type": "execute_result"
    }
   ],
   "source": [
    "len(JJ_2)"
   ]
  },
  {
   "cell_type": "code",
   "execution_count": 23,
   "id": "131ea7e1",
   "metadata": {},
   "outputs": [
    {
     "data": {
      "text/plain": [
       "21"
      ]
     },
     "execution_count": 23,
     "metadata": {},
     "output_type": "execute_result"
    }
   ],
   "source": [
    "len(JJ_3)"
   ]
  },
  {
   "cell_type": "code",
   "execution_count": 24,
   "id": "326185ec",
   "metadata": {},
   "outputs": [
    {
     "data": {
      "text/plain": [
       "21"
      ]
     },
     "execution_count": 24,
     "metadata": {},
     "output_type": "execute_result"
    }
   ],
   "source": [
    "len(JJ_4)"
   ]
  },
  {
   "cell_type": "markdown",
   "id": "ac02c900",
   "metadata": {},
   "source": [
    "Раз длины выборок одинаковые, но дисперсии выборок неоднородные Все равно проведем однофакторный дисперсионный анализ"
   ]
  },
  {
   "cell_type": "code",
   "execution_count": 25,
   "id": "06a0a8a2",
   "metadata": {},
   "outputs": [
    {
     "data": {
      "text/plain": [
       "F_onewayResult(statistic=162.03157448390618, pvalue=6.81307443530621e-34)"
      ]
     },
     "execution_count": 25,
     "metadata": {},
     "output_type": "execute_result"
    }
   ],
   "source": [
    "stats.f_oneway(JJ_1, JJ_2, JJ_3, JJ_4)"
   ]
  },
  {
   "cell_type": "markdown",
   "id": "d4e041b7",
   "metadata": {},
   "source": [
    "pvalue=6.81307443530621e-34 < alfa, верна альтернативная гипотеза и значит есть статистически значимые различия. тогда с помощью post hoc test можно найти между какими факторами есть эти различия"
   ]
  },
  {
   "cell_type": "markdown",
   "id": "bbbceef5",
   "metadata": {},
   "source": [
    "### Задача 3\n",
    "\n",
    "Провести post hoc tests к задаче 2\n",
    "Между какими группами не обнаружено статистически значимых различий? \n"
   ]
  },
  {
   "cell_type": "code",
   "execution_count": 27,
   "id": "544b3866",
   "metadata": {},
   "outputs": [
    {
     "data": {
      "text/html": [
       "<div>\n",
       "<style scoped>\n",
       "    .dataframe tbody tr th:only-of-type {\n",
       "        vertical-align: middle;\n",
       "    }\n",
       "\n",
       "    .dataframe tbody tr th {\n",
       "        vertical-align: top;\n",
       "    }\n",
       "\n",
       "    .dataframe thead th {\n",
       "        text-align: right;\n",
       "    }\n",
       "</style>\n",
       "<table border=\"1\" class=\"dataframe\">\n",
       "  <thead>\n",
       "    <tr style=\"text-align: right;\">\n",
       "      <th></th>\n",
       "      <th>profit</th>\n",
       "      <th>quarter</th>\n",
       "    </tr>\n",
       "  </thead>\n",
       "  <tbody>\n",
       "    <tr>\n",
       "      <th>0</th>\n",
       "      <td>0.71</td>\n",
       "      <td>q1</td>\n",
       "    </tr>\n",
       "    <tr>\n",
       "      <th>1</th>\n",
       "      <td>0.63</td>\n",
       "      <td>q1</td>\n",
       "    </tr>\n",
       "    <tr>\n",
       "      <th>2</th>\n",
       "      <td>0.85</td>\n",
       "      <td>q1</td>\n",
       "    </tr>\n",
       "    <tr>\n",
       "      <th>3</th>\n",
       "      <td>0.44</td>\n",
       "      <td>q1</td>\n",
       "    </tr>\n",
       "    <tr>\n",
       "      <th>4</th>\n",
       "      <td>0.61</td>\n",
       "      <td>q1</td>\n",
       "    </tr>\n",
       "    <tr>\n",
       "      <th>...</th>\n",
       "      <td>...</td>\n",
       "      <td>...</td>\n",
       "    </tr>\n",
       "    <tr>\n",
       "      <th>79</th>\n",
       "      <td>9.99</td>\n",
       "      <td>q4</td>\n",
       "    </tr>\n",
       "    <tr>\n",
       "      <th>80</th>\n",
       "      <td>16.20</td>\n",
       "      <td>q4</td>\n",
       "    </tr>\n",
       "    <tr>\n",
       "      <th>81</th>\n",
       "      <td>14.67</td>\n",
       "      <td>q4</td>\n",
       "    </tr>\n",
       "    <tr>\n",
       "      <th>82</th>\n",
       "      <td>16.02</td>\n",
       "      <td>q4</td>\n",
       "    </tr>\n",
       "    <tr>\n",
       "      <th>83</th>\n",
       "      <td>11.61</td>\n",
       "      <td>q4</td>\n",
       "    </tr>\n",
       "  </tbody>\n",
       "</table>\n",
       "<p>84 rows × 2 columns</p>\n",
       "</div>"
      ],
      "text/plain": [
       "    profit quarter\n",
       "0     0.71      q1\n",
       "1     0.63      q1\n",
       "2     0.85      q1\n",
       "3     0.44      q1\n",
       "4     0.61      q1\n",
       "..     ...     ...\n",
       "79    9.99      q4\n",
       "80   16.20      q4\n",
       "81   14.67      q4\n",
       "82   16.02      q4\n",
       "83   11.61      q4\n",
       "\n",
       "[84 rows x 2 columns]"
      ]
     },
     "execution_count": 27,
     "metadata": {},
     "output_type": "execute_result"
    }
   ],
   "source": [
    "kvartals = pd.DataFrame({'profit': [ 0.71, 0.63, 0.85, 0.44, 0.61, 0.69, 0.92, 0.55, 0.72, 0.77, 0.92, 0.60, 0.83, 0.80, 1.00, 0.77, 0.92, 1.00, 1.24, 1.00, 1.16 ,\n",
    "    1.30, 1.45, 1.25, 1.26, 1.38, 1.86, 1.56, 1.53, 1.59, 1.83, 1.86, 1.53, 2.07, 2.34, 2.25, 2.16, 2.43, 2.70, 2.25, 2.79, 3.42 ,\n",
    "    3.69, 3.60, 3.60, 4.32, 4.32, 4.05, 4.86, 5.04, 5.04, 4.41, 5.58, 5.85, 6.57, 5.31, 6.03, 6.39, 6.93, 5.85, 6.93, 7.74, 7.83,\n",
    "    6.12, 7.74, 8.91, 8.28, 6.84, 9.54, 10.26, 9.54, 8.73, 11.88, 12.06, 12.15, 8.91, 14.04, 12.96, 14.85, 9.99, 16.20, 14.67, 16.02, 11.61 ],\n",
    "    'quarter': np.repeat(['q1','q2','q3','q4'],repeats=21)})\n",
    "kvartals"
   ]
  },
  {
   "cell_type": "code",
   "execution_count": 29,
   "id": "2b2b2cde",
   "metadata": {},
   "outputs": [],
   "source": [
    "from statsmodels.stats.multicomp import pairwise_tukeyhsd"
   ]
  },
  {
   "cell_type": "code",
   "execution_count": 31,
   "id": "4507e5e9",
   "metadata": {},
   "outputs": [
    {
     "name": "stdout",
     "output_type": "stream",
     "text": [
      "Multiple Comparison of Means - Tukey HSD, FWER=0.05 \n",
      "====================================================\n",
      "group1 group2 meandiff p-adj   lower   upper  reject\n",
      "----------------------------------------------------\n",
      "    q1     q2   1.1276 0.1282 -0.2087   2.464  False\n",
      "    q1     q3     4.61    0.0  3.2737  5.9463   True\n",
      "    q1     q4  10.1986    0.0  8.8622 11.5349   True\n",
      "    q2     q3   3.4824    0.0   2.146  4.8187   True\n",
      "    q2     q4    9.071    0.0  7.7346 10.4073   True\n",
      "    q3     q4   5.5886    0.0  4.2522  6.9249   True\n",
      "----------------------------------------------------\n"
     ]
    }
   ],
   "source": [
    "tukey_res = pairwise_tukeyhsd(endog = kvartals[\"profit\"], groups=kvartals[\"quarter\"], alpha = 0.05)\n",
    "print(tukey_res)"
   ]
  },
  {
   "cell_type": "markdown",
   "id": "4f45c4e4",
   "metadata": {},
   "source": [
    "p-adj = 0.1282 > альфа 0,05 между q1 и q2,значит различия не найдены. В остальных случаях p-adj=0, значит найдены различия "
   ]
  },
  {
   "cell_type": "markdown",
   "id": "c37c5cc9",
   "metadata": {},
   "source": [
    "другой способ:"
   ]
  },
  {
   "cell_type": "code",
   "execution_count": 33,
   "id": "f68b881b",
   "metadata": {},
   "outputs": [
    {
     "name": "stdout",
     "output_type": "stream",
     "text": [
      "Multiple Comparison of Means - Tukey HSD, FWER=0.05 \n",
      "====================================================\n",
      "group1 group2 meandiff p-adj   lower   upper  reject\n",
      "----------------------------------------------------\n",
      "    q1     q2   1.1276 0.1282 -0.2087   2.464  False\n",
      "    q1     q3     4.61    0.0  3.2737  5.9463   True\n",
      "    q1     q4  10.1986    0.0  8.8622 11.5349   True\n",
      "    q2     q3   3.4824    0.0   2.146  4.8187   True\n",
      "    q2     q4    9.071    0.0  7.7346 10.4073   True\n",
      "    q3     q4   5.5886    0.0  4.2522  6.9249   True\n",
      "----------------------------------------------------\n"
     ]
    }
   ],
   "source": [
    "z_values = np.concatenate([JJ_1,JJ_2,JJ_3,JJ_4])\n",
    "names = np.repeat(['q1','q2','q3','q4'],repeats=21)\n",
    "simple_tukey= pairwise_tukeyhsd(endog = z_values, groups =names,alpha=0.05)\n",
    "\n",
    "print(simple_tukey)"
   ]
  },
  {
   "cell_type": "code",
   "execution_count": null,
   "id": "494b793f",
   "metadata": {},
   "outputs": [],
   "source": []
  }
 ],
 "metadata": {
  "kernelspec": {
   "display_name": "Python 3 (ipykernel)",
   "language": "python",
   "name": "python3"
  },
  "language_info": {
   "codemirror_mode": {
    "name": "ipython",
    "version": 3
   },
   "file_extension": ".py",
   "mimetype": "text/x-python",
   "name": "python",
   "nbconvert_exporter": "python",
   "pygments_lexer": "ipython3",
   "version": "3.9.12"
  }
 },
 "nbformat": 4,
 "nbformat_minor": 5
}
