{
 "cells": [
  {
   "cell_type": "code",
   "execution_count": 1,
   "id": "dc81c429",
   "metadata": {},
   "outputs": [],
   "source": [
    "import matplotlib.pyplot as plt\n",
    "import numpy as np\n",
    "\n",
    "import pandas as pd\n",
    "import scipy.stats as stats"
   ]
  },
  {
   "cell_type": "markdown",
   "id": "d71abd2d",
   "metadata": {},
   "source": [
    "### Задача 1 \n",
    "Постройте графики для приведенных наборов данных. Найдите коэффициенты для линии регрессии и коэффициенты детерминации. Что вы замечаете? Нанесите на график модель линейной решрессии.\n",
    "\n",
    "X1= np.array([30,30,40, 40)]\n",
    "\n",
    "Y1= np.array([37, 47, 50, 60)]\n",
    "\n",
    "x2= np.array([30,30,40, 40, 20, 20, 50, 50]) \n",
    "\n",
    "y2= np.array([37, 47, 50, 60, 25, 35, 62, 72])\n",
    "\n",
    "X3 = np.array([30,30,40, 40, 20, 20, 50, 50, 10, 10, 60, 60])\n",
    "\n",
    "Y3 = np.array([37, 47, 50, 60, 25, 35, 62, 72, 13, 23, 74, 84])\n"
   ]
  },
  {
   "cell_type": "code",
   "execution_count": 17,
   "id": "8c91ee39",
   "metadata": {},
   "outputs": [],
   "source": [
    "X1= np.array([30, 30, 40, 40])\n",
    "Y1= np.array([37, 47, 50, 60])\n",
    "X2= np.array([30, 30, 40, 40, 20, 20, 50, 50]) \n",
    "Y2= np.array([37, 47, 50, 60, 25, 35, 62, 72])\n",
    "X3 = np.array([30, 30, 40, 40, 20, 20, 50, 50, 10, 10, 60, 60])\n",
    "Y3 = np.array([37, 47, 50, 60, 25, 35, 62, 72, 13, 23, 74, 84])"
   ]
  },
  {
   "cell_type": "code",
   "execution_count": 37,
   "id": "74c80456",
   "metadata": {},
   "outputs": [],
   "source": [
    "def line (X1):\n",
    "    return 3+1.3*X1"
   ]
  },
  {
   "cell_type": "code",
   "execution_count": 41,
   "id": "71e6a8c8",
   "metadata": {
    "scrolled": true
   },
   "outputs": [
    {
     "data": {
      "image/png": "[encoded data removed]",
      "text/plain": [
       "<Figure size 432x288 with 1 Axes>"
      ]
     },
     "metadata": {
      "needs_background": "light"
     },
     "output_type": "display_data"
    }
   ],
   "source": [
    "plt.scatter(X1, Y1)\n",
    "plt.plot(np.arange(29,41),line(np.arange(29,41))); #np.arange(29,41) - это X1, line(np.arange(29,41))- это Y1"
   ]
  },
  {
   "cell_type": "markdown",
   "id": "10d5ee7d",
   "metadata": {},
   "source": [
    "коэффициенты детерминации"
   ]
  },
  {
   "cell_type": "code",
   "execution_count": null,
   "id": "1f7dd6b6",
   "metadata": {},
   "outputs": [],
   "source": [
    "коэффициенты для линии регрессии = 0.62, это < 0.9, значит нет регрессии."
   ]
  },
  {
   "cell_type": "code",
   "execution_count": 29,
   "id": "41edab94",
   "metadata": {},
   "outputs": [
    {
     "name": "stdout",
     "output_type": "stream",
     "text": [
      "3.000000000000007\n",
      "[1.3]\n"
     ]
    }
   ],
   "source": [
    "from sklearn.linear_model import LinearRegression\n",
    "model1 = LinearRegression ()\n",
    "X1 = X1.reshape(-1,1)\n",
    "regres = model1.fit(X1, Y1)\n",
    "print(regres.intercept_)\n",
    "print(regres.coef_)"
   ]
  },
  {
   "cell_type": "markdown",
   "id": "c58cb4a5",
   "metadata": {},
   "source": [
    "коэффициенты детерминации"
   ]
  },
  {
   "cell_type": "code",
   "execution_count": 25,
   "id": "c9144b68",
   "metadata": {},
   "outputs": [
    {
     "data": {
      "text/plain": [
       "0.7926239891046001"
      ]
     },
     "execution_count": 25,
     "metadata": {},
     "output_type": "execute_result"
    }
   ],
   "source": [
    "r1 = np.corrcoef(X1, Y1) [1,0]\n",
    "r1"
   ]
  },
  {
   "cell_type": "code",
   "execution_count": 32,
   "id": "60831f66",
   "metadata": {},
   "outputs": [
    {
     "data": {
      "text/plain": [
       "0.6282527881040891"
      ]
     },
     "execution_count": 32,
     "metadata": {},
     "output_type": "execute_result"
    }
   ],
   "source": [
    "R1 = r1**2\n",
    "R1"
   ]
  },
  {
   "cell_type": "code",
   "execution_count": 4,
   "id": "14ff846b",
   "metadata": {},
   "outputs": [
    {
     "data": {
      "text/plain": [
       "<matplotlib.collections.PathCollection at 0x2a7406f6130>"
      ]
     },
     "execution_count": 4,
     "metadata": {},
     "output_type": "execute_result"
    },
    {
     "data": {
      "image/png": "[encoded data removed]",
      "text/plain": [
       "<Figure size 432x288 with 1 Axes>"
      ]
     },
     "metadata": {
      "needs_background": "light"
     },
     "output_type": "display_data"
    }
   ],
   "source": [
    "plt.scatter(X2, Y2)"
   ]
  },
  {
   "cell_type": "markdown",
   "id": "6de59d08",
   "metadata": {},
   "source": [
    "коэффициенты детерминации"
   ]
  },
  {
   "cell_type": "code",
   "execution_count": 27,
   "id": "26860952",
   "metadata": {},
   "outputs": [
    {
     "data": {
      "text/plain": [
       "0.9405822939985952"
      ]
     },
     "execution_count": 27,
     "metadata": {},
     "output_type": "execute_result"
    }
   ],
   "source": [
    "r2 = np.corrcoef(X2, Y2) [1,0]\n",
    "r2"
   ]
  },
  {
   "cell_type": "code",
   "execution_count": 33,
   "id": "f69fc6b8",
   "metadata": {},
   "outputs": [
    {
     "data": {
      "text/plain": [
       "0.8846950517836597"
      ]
     },
     "execution_count": 33,
     "metadata": {},
     "output_type": "execute_result"
    }
   ],
   "source": [
    "R2 = r2**2\n",
    "R2"
   ]
  },
  {
   "cell_type": "markdown",
   "id": "daa77c61",
   "metadata": {},
   "source": [
    "коэффициенты для линии регрессии"
   ]
  },
  {
   "cell_type": "code",
   "execution_count": 30,
   "id": "9b7a0830",
   "metadata": {},
   "outputs": [
    {
     "name": "stdout",
     "output_type": "stream",
     "text": [
      "5.1000000000000085\n",
      "[1.24]\n"
     ]
    }
   ],
   "source": [
    "model2 = LinearRegression ()\n",
    "X2 = X2.reshape(-1,1)\n",
    "regres = model2.fit(X2, Y2)\n",
    "print(regres.intercept_)\n",
    "print(regres.coef_)"
   ]
  },
  {
   "cell_type": "code",
   "execution_count": 45,
   "id": "2922d8bc",
   "metadata": {},
   "outputs": [],
   "source": [
    "def line (X3):\n",
    "    return 5.6+1.22*X3"
   ]
  },
  {
   "cell_type": "code",
   "execution_count": 46,
   "id": "14fc86e1",
   "metadata": {},
   "outputs": [
    {
     "data": {
      "image/png": "[encoded data removed]",
      "text/plain": [
       "<Figure size 432x288 with 1 Axes>"
      ]
     },
     "metadata": {
      "needs_background": "light"
     },
     "output_type": "display_data"
    }
   ],
   "source": [
    "plt.scatter(X3, Y3)\n",
    "plt.plot(np.arange(9,61),line(np.arange(9,61))); "
   ]
  },
  {
   "cell_type": "markdown",
   "id": "d6c31a7a",
   "metadata": {},
   "source": [
    "коэффициенты детерминации"
   ]
  },
  {
   "cell_type": "code",
   "execution_count": 34,
   "id": "12b564ce",
   "metadata": {},
   "outputs": [
    {
     "data": {
      "text/plain": [
       "0.9725791007224712"
      ]
     },
     "execution_count": 34,
     "metadata": {},
     "output_type": "execute_result"
    }
   ],
   "source": [
    "r3 = np.corrcoef(X3, Y3) [1,0]\n",
    "r3"
   ]
  },
  {
   "cell_type": "code",
   "execution_count": 35,
   "id": "a6e85339",
   "metadata": {},
   "outputs": [
    {
     "data": {
      "text/plain": [
       "0.9459101071621309"
      ]
     },
     "execution_count": 35,
     "metadata": {},
     "output_type": "execute_result"
    }
   ],
   "source": [
    "R3 = r3**2\n",
    "R3"
   ]
  },
  {
   "cell_type": "markdown",
   "id": "954a5338",
   "metadata": {},
   "source": [
    "коэффициенты для линии регрессии"
   ]
  },
  {
   "cell_type": "code",
   "execution_count": 47,
   "id": "2af7bbc0",
   "metadata": {},
   "outputs": [
    {
     "name": "stdout",
     "output_type": "stream",
     "text": [
      "5.600000000000016\n",
      "[1.22571429]\n"
     ]
    }
   ],
   "source": [
    "model3 = LinearRegression ()\n",
    "X3 = X3.reshape(-1,1)\n",
    "regres = model3.fit(X3, Y3)\n",
    "print(regres.intercept_)\n",
    "print(regres.coef_)"
   ]
  },
  {
   "cell_type": "code",
   "execution_count": 49,
   "id": "a9784d09",
   "metadata": {},
   "outputs": [
    {
     "data": {
      "text/plain": [
       "0.9459101071621309"
      ]
     },
     "execution_count": 49,
     "metadata": {},
     "output_type": "execute_result"
    }
   ],
   "source": [
    "regres.score(X3,Y3)"
   ]
  },
  {
   "cell_type": "markdown",
   "id": "2e6853b3",
   "metadata": {},
   "source": [
    "### Задача 2\n",
    "\n",
    "Построить модель линейной регрессии и проверить оставшееся условие на нормальность. Проверить статистическую значимость\n",
    "\n"
   ]
  },
  {
   "cell_type": "code",
   "execution_count": 62,
   "id": "0860b0ef",
   "metadata": {},
   "outputs": [],
   "source": [
    "model = LinearRegression ()\n",
    "x = np.array([10, 8, 13, 9, 11, 14, 6, 4, 12, 7, 5])\n",
    "\n",
    "y = np.array([8.04, 6.95, 7.58, 8.81, 8.33, 9.96, 7.24, 4.26, 10.84, 4.82, 5.68 ])\n",
    "x=x.reshape(-1,1)"
   ]
  },
  {
   "cell_type": "code",
   "execution_count": 54,
   "id": "3a02d421",
   "metadata": {},
   "outputs": [],
   "source": [
    "def linear(iks, b0, b1):\n",
    "    return b0+iks*b1"
   ]
  },
  {
   "cell_type": "code",
   "execution_count": 63,
   "id": "160fb3d6",
   "metadata": {},
   "outputs": [
    {
     "name": "stdout",
     "output_type": "stream",
     "text": [
      "3.0000909090909103 [0.50009091]\n"
     ]
    }
   ],
   "source": [
    "model.fit(x,y)\n",
    "b0 = model.intercept_\n",
    "b1 = model.coef_\n",
    "print(b0,b1)"
   ]
  },
  {
   "cell_type": "code",
   "execution_count": 64,
   "id": "3d16c402",
   "metadata": {},
   "outputs": [
    {
     "data": {
      "text/plain": [
       "0.666542459508775"
      ]
     },
     "execution_count": 64,
     "metadata": {},
     "output_type": "execute_result"
    }
   ],
   "source": [
    "model.score(x,y)"
   ]
  },
  {
   "cell_type": "code",
   "execution_count": 66,
   "id": "bf6402ca",
   "metadata": {},
   "outputs": [
    {
     "data": {
      "image/png": "[encoded data removed]",
      "text/plain": [
       "<Figure size 432x288 with 1 Axes>"
      ]
     },
     "metadata": {
      "needs_background": "light"
     },
     "output_type": "display_data"
    }
   ],
   "source": [
    "plt.scatter(x,y)\n",
    "plt.plot(x, linear(x, b0, b1));"
   ]
  },
  {
   "cell_type": "code",
   "execution_count": 69,
   "id": "76d69f04",
   "metadata": {},
   "outputs": [
    {
     "data": {
      "text/plain": [
       "array([ 0.039     , -0.05081818, -1.92127273,  1.30909091, -0.17109091,\n",
       "       -0.04136364,  1.23936364, -0.74045455,  1.83881818, -1.68072727,\n",
       "        0.17945455])"
      ]
     },
     "execution_count": 69,
     "metadata": {},
     "output_type": "execute_result"
    }
   ],
   "source": [
    "preds = model.predict(x) #предсказанные y\n",
    "rems = y-preds #y-y предс (это остатки)\n",
    "rems"
   ]
  },
  {
   "cell_type": "code",
   "execution_count": 70,
   "id": "cf68e2c6",
   "metadata": {},
   "outputs": [
    {
     "data": {
      "text/plain": [
       "ShapiroResult(statistic=0.9421077966690063, pvalue=0.545586347579956)"
      ]
     },
     "execution_count": 70,
     "metadata": {},
     "output_type": "execute_result"
    }
   ],
   "source": [
    "stats.shapiro(rems)"
   ]
  },
  {
   "cell_type": "markdown",
   "id": "b4b6af60",
   "metadata": {},
   "source": [
    "pvalue=0.54 > 0.05, значит остатки нормально распределены"
   ]
  },
  {
   "cell_type": "code",
   "execution_count": 75,
   "id": "d17ee2fb",
   "metadata": {},
   "outputs": [
    {
     "data": {
      "image/png": "[encoded data removed]",
      "text/plain": [
       "<Figure size 432x288 with 1 Axes>"
      ]
     },
     "metadata": {
      "needs_background": "light"
     },
     "output_type": "display_data"
    }
   ],
   "source": [
    "plt.scatter(preds,rems); # проверяем гомоскедастичнсть, построили дисперсию"
   ]
  },
  {
   "cell_type": "markdown",
   "id": "9a06757f",
   "metadata": {},
   "source": [
    "Проверка модели на Критерий Фишера (F=MSf/MSo), MSf=SSf/df1, MSo=SSo/df2"
   ]
  },
  {
   "cell_type": "code",
   "execution_count": 78,
   "id": "fc627174",
   "metadata": {},
   "outputs": [
    {
     "data": {
      "text/plain": [
       "7.500909090909093"
      ]
     },
     "execution_count": 78,
     "metadata": {},
     "output_type": "execute_result"
    }
   ],
   "source": [
    "sred = np.mean(y)\n",
    "sred"
   ]
  },
  {
   "cell_type": "code",
   "execution_count": 79,
   "id": "cad396a6",
   "metadata": {},
   "outputs": [
    {
     "data": {
      "text/plain": [
       "27.51000090909092"
      ]
     },
     "execution_count": 79,
     "metadata": {},
     "output_type": "execute_result"
    }
   ],
   "source": [
    "SSf=np.sum((preds-sred)**2)\n",
    "SSf"
   ]
  },
  {
   "cell_type": "code",
   "execution_count": 80,
   "id": "8512c662",
   "metadata": {},
   "outputs": [
    {
     "data": {
      "text/plain": [
       "13.76269"
      ]
     },
     "execution_count": 80,
     "metadata": {},
     "output_type": "execute_result"
    }
   ],
   "source": [
    "SSo=np.sum((y-preds)**2)\n",
    "SSo"
   ]
  },
  {
   "cell_type": "code",
   "execution_count": 82,
   "id": "d2dd8212",
   "metadata": {},
   "outputs": [
    {
     "data": {
      "text/plain": [
       "17.98994296767698"
      ]
     },
     "execution_count": 82,
     "metadata": {},
     "output_type": "execute_result"
    }
   ],
   "source": [
    "# по числу признаков df1 = признаки - 1\n",
    "df1 = 2-1\n",
    "# по числу измерений df2 = размер выборки - признаки\n",
    "df2 = len(y)-2\n",
    "Fish = (SSf/df1)/(SSo/df2)\n",
    "Fish"
   ]
  },
  {
   "cell_type": "code",
   "execution_count": 83,
   "id": "6ebebefb",
   "metadata": {},
   "outputs": [
    {
     "data": {
      "text/plain": [
       "5.117355029199227"
      ]
     },
     "execution_count": 83,
     "metadata": {},
     "output_type": "execute_result"
    }
   ],
   "source": [
    "alpha= 0.05\n",
    "stats.f.ppf(1-alpha, df1, df2)"
   ]
  },
  {
   "cell_type": "markdown",
   "id": "fcaebf93",
   "metadata": {},
   "source": [
    "Фишер расчетное = 17,9 > Фишер табличное 5,11, верна альтернативная гипотеза H1, значит Модель линейной регрессии статистически значима"
   ]
  },
  {
   "cell_type": "code",
   "execution_count": null,
   "id": "e192417d",
   "metadata": {},
   "outputs": [],
   "source": []
  }
 ],
 "metadata": {
  "kernelspec": {
   "display_name": "Python 3 (ipykernel)",
   "language": "python",
   "name": "python3"
  },
  "language_info": {
   "codemirror_mode": {
    "name": "ipython",
    "version": 3
   },
   "file_extension": ".py",
   "mimetype": "text/x-python",
   "name": "python",
   "nbconvert_exporter": "python",
   "pygments_lexer": "ipython3",
   "version": "3.9.12"
  }
 },
 "nbformat": 4,
 "nbformat_minor": 5
}
