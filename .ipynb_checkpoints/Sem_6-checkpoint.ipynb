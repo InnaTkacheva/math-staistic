{
 "cells": [
  {
   "cell_type": "code",
   "execution_count": 1,
   "id": "c3742f20",
   "metadata": {},
   "outputs": [],
   "source": [
    "import pandas as pd\n",
    "from scipy import stats\n"
   ]
  },
  {
   "cell_type": "code",
   "execution_count": 2,
   "id": "cedd6ae9",
   "metadata": {},
   "outputs": [],
   "source": [
    "import numpy as np"
   ]
  },
  {
   "cell_type": "markdown",
   "id": "6ca8c7ed",
   "metadata": {},
   "source": [
    "Задача 1"
   ]
  },
  {
   "cell_type": "code",
   "execution_count": 8,
   "id": "e819c7e7",
   "metadata": {},
   "outputs": [],
   "source": [
    "X_mean = 2.8\n",
    "alfa_95 = 1.96\n",
    "S=1.2\n",
    "n = np.sqrt(157)"
   ]
  },
  {
   "cell_type": "code",
   "execution_count": 10,
   "id": "a5d42526",
   "metadata": {},
   "outputs": [
    {
     "data": {
      "text/plain": [
       "2.9877100352267845"
      ]
     },
     "execution_count": 10,
     "metadata": {},
     "output_type": "execute_result"
    }
   ],
   "source": [
    "int_ver = X_mean + (alfa_95)*S/n\n",
    "int_ver"
   ]
  },
  {
   "cell_type": "code",
   "execution_count": 11,
   "id": "9efeef59",
   "metadata": {},
   "outputs": [
    {
     "data": {
      "text/plain": [
       "2.612289964773215"
      ]
     },
     "execution_count": 11,
     "metadata": {},
     "output_type": "execute_result"
    }
   ],
   "source": [
    "int_niz = X_mean - (alfa_95)*S/n\n",
    "int_niz"
   ]
  },
  {
   "cell_type": "code",
   "execution_count": 12,
   "id": "844cae0e",
   "metadata": {},
   "outputs": [],
   "source": [
    "X_mean = 2.8\n",
    "alfa_90 = 1.645\n",
    "S=1.2\n",
    "n = np.sqrt(157)"
   ]
  },
  {
   "cell_type": "code",
   "execution_count": 13,
   "id": "e73bf9aa",
   "metadata": {},
   "outputs": [
    {
     "data": {
      "text/plain": [
       "2.9575423509939083"
      ]
     },
     "execution_count": 13,
     "metadata": {},
     "output_type": "execute_result"
    }
   ],
   "source": [
    "int_ver = X_mean + (alfa_90)*S/n\n",
    "int_ver"
   ]
  },
  {
   "cell_type": "code",
   "execution_count": 14,
   "id": "ab9dc2d1",
   "metadata": {},
   "outputs": [
    {
     "data": {
      "text/plain": [
       "2.6424576490060914"
      ]
     },
     "execution_count": 14,
     "metadata": {},
     "output_type": "execute_result"
    }
   ],
   "source": [
    "int_niz = X_mean - (alfa_90)*S/n\n",
    "int_niz"
   ]
  },
  {
   "cell_type": "code",
   "execution_count": 15,
   "id": "9a8a4b96",
   "metadata": {},
   "outputs": [],
   "source": [
    "X_mean = 4.9\n",
    "alfa_95 = 1.96\n",
    "S=7.3\n",
    "n = np.sqrt(155)"
   ]
  },
  {
   "cell_type": "code",
   "execution_count": null,
   "id": "1f9a62c1",
   "metadata": {},
   "outputs": [],
   "source": []
  }
 ],
 "metadata": {
  "kernelspec": {
   "display_name": "Python 3 (ipykernel)",
   "language": "python",
   "name": "python3"
  },
  "language_info": {
   "codemirror_mode": {
    "name": "ipython",
    "version": 3
   },
   "file_extension": ".py",
   "mimetype": "text/x-python",
   "name": "python",
   "nbconvert_exporter": "python",
   "pygments_lexer": "ipython3",
   "version": "3.9.12"
  }
 },
 "nbformat": 4,
 "nbformat_minor": 5
}
