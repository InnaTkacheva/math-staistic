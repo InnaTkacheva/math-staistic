{
 "cells": [
  {
   "cell_type": "code",
   "execution_count": 1,
   "id": "566b8b77",
   "metadata": {},
   "outputs": [],
   "source": [
    "import matplotlib.pyplot as plt\n",
    "import numpy as np\n",
    "\n",
    "import pandas as pd\n",
    "import scipy.stats as stats\n",
    "import pylab\n",
    "from statsmodels.stats.multicomp import pairwise_tukeyhsd"
   ]
  },
  {
   "cell_type": "markdown",
   "id": "bc485f52",
   "metadata": {},
   "source": [
    "### Задача\n",
    "\n",
    "Провести дисперсионный анализ для определения того, есть ли различия среднего роста среди взрослых футболистов, хоккеистов и штангистов. \n",
    "\n",
    "Даны значения роста в трех группах случайно выбранных спортсменов: \n",
    "\n",
    "Футболисты: 173, 175, 180, 178, 177, 185, 183, 182. \n",
    "\n",
    "Хоккеисты: 177, 179, 180, 188, 177, 172, 171, 184, 180. \n",
    "\n",
    "Штангисты: 172, 173, 169, 177, 166, 180, 178, 177, 172, 166, 170."
   ]
  },
  {
   "cell_type": "code",
   "execution_count": 12,
   "id": "4e06b981",
   "metadata": {},
   "outputs": [],
   "source": [
    "football = np.array ([173, 175, 180, 178, 177, 185, 183, 182])\n",
    "\n",
    "hockey = np.array ([177, 179, 180, 188, 177, 172, 171, 184, 180]) \n",
    "\n",
    "powerlifting = np.array ([172, 173, 169, 177, 166, 180, 178, 177, 172, 166, 170])"
   ]
  },
  {
   "cell_type": "markdown",
   "id": "72637415",
   "metadata": {},
   "source": [
    "Проверка на нормальность с помощью теста Шапиро-Уилка"
   ]
  },
  {
   "cell_type": "code",
   "execution_count": 13,
   "id": "6cbae5bc",
   "metadata": {},
   "outputs": [
    {
     "data": {
      "text/plain": [
       "ShapiroResult(statistic=0.9775081276893616, pvalue=0.9495397210121155)"
      ]
     },
     "execution_count": 13,
     "metadata": {},
     "output_type": "execute_result"
    }
   ],
   "source": [
    "stats.shapiro(football)"
   ]
  },
  {
   "cell_type": "code",
   "execution_count": 14,
   "id": "9c38cf50",
   "metadata": {},
   "outputs": [
    {
     "data": {
      "text/plain": [
       "ShapiroResult(statistic=0.9579195976257324, pvalue=0.7763133645057678)"
      ]
     },
     "execution_count": 14,
     "metadata": {},
     "output_type": "execute_result"
    }
   ],
   "source": [
    "stats.shapiro(hockey)"
   ]
  },
  {
   "cell_type": "code",
   "execution_count": 15,
   "id": "2d97a93f",
   "metadata": {},
   "outputs": [
    {
     "data": {
      "text/plain": [
       "ShapiroResult(statistic=0.93868088722229, pvalue=0.5051169991493225)"
      ]
     },
     "execution_count": 15,
     "metadata": {},
     "output_type": "execute_result"
    }
   ],
   "source": [
    "stats.shapiro(powerlifting)"
   ]
  },
  {
   "cell_type": "markdown",
   "id": "41cb00d1",
   "metadata": {},
   "source": [
    "все pvalue > alfa 0.05, значит в выборка нормальное распределение"
   ]
  },
  {
   "cell_type": "markdown",
   "id": "feeb6ddd",
   "metadata": {},
   "source": [
    "Проверка на однородность дисперсий между разными выборками (равенство дисперсий)"
   ]
  },
  {
   "cell_type": "code",
   "execution_count": 16,
   "id": "8c9314ba",
   "metadata": {},
   "outputs": [
    {
     "data": {
      "text/plain": [
       "BartlettResult(statistic=0.4640521043406442, pvalue=0.7929254656083131)"
      ]
     },
     "execution_count": 16,
     "metadata": {},
     "output_type": "execute_result"
    }
   ],
   "source": [
    "stats.bartlett(football, hockey, powerlifting)"
   ]
  },
  {
   "cell_type": "markdown",
   "id": "4a59fa76",
   "metadata": {},
   "source": [
    "pvalue=0.792 > alfa=0.05, верна нулевая гипотеза и значит дисперсии выборок однородны.\n",
    "\n",
    "Предположим что в выборках учтена независимость измерений.\n",
    "Нормальное распределение и однородность дисперсий выборок говорит о том, что можно провести дисперсионный анализ"
   ]
  },
  {
   "cell_type": "code",
   "execution_count": 17,
   "id": "6bc82262",
   "metadata": {},
   "outputs": [
    {
     "data": {
      "text/plain": [
       "F_onewayResult(statistic=5.500053450812596, pvalue=0.010482206918698694)"
      ]
     },
     "execution_count": 17,
     "metadata": {},
     "output_type": "execute_result"
    }
   ],
   "source": [
    "stats.f_oneway(football, hockey, powerlifting)"
   ]
  },
  {
   "cell_type": "markdown",
   "id": "a0eb6ef9",
   "metadata": {},
   "source": [
    "pvalue=0.01048 < alfa=0.05, верна альтернативная гипотеза и значит есть статистически значимые различия. тогда с помощью post hoc test можно найти между какими факторами есть эти различия"
   ]
  },
  {
   "cell_type": "markdown",
   "id": "399a2203",
   "metadata": {},
   "source": [
    "проводим post hoc tests"
   ]
  },
  {
   "cell_type": "code",
   "execution_count": 18,
   "id": "ce83b378",
   "metadata": {},
   "outputs": [
    {
     "data": {
      "text/html": [
       "<div>\n",
       "<style scoped>\n",
       "    .dataframe tbody tr th:only-of-type {\n",
       "        vertical-align: middle;\n",
       "    }\n",
       "\n",
       "    .dataframe tbody tr th {\n",
       "        vertical-align: top;\n",
       "    }\n",
       "\n",
       "    .dataframe thead th {\n",
       "        text-align: right;\n",
       "    }\n",
       "</style>\n",
       "<table border=\"1\" class=\"dataframe\">\n",
       "  <thead>\n",
       "    <tr style=\"text-align: right;\">\n",
       "      <th></th>\n",
       "      <th>height</th>\n",
       "      <th>sport</th>\n",
       "    </tr>\n",
       "  </thead>\n",
       "  <tbody>\n",
       "    <tr>\n",
       "      <th>0</th>\n",
       "      <td>173</td>\n",
       "      <td>football</td>\n",
       "    </tr>\n",
       "    <tr>\n",
       "      <th>1</th>\n",
       "      <td>175</td>\n",
       "      <td>football</td>\n",
       "    </tr>\n",
       "    <tr>\n",
       "      <th>2</th>\n",
       "      <td>180</td>\n",
       "      <td>football</td>\n",
       "    </tr>\n",
       "    <tr>\n",
       "      <th>3</th>\n",
       "      <td>178</td>\n",
       "      <td>football</td>\n",
       "    </tr>\n",
       "    <tr>\n",
       "      <th>4</th>\n",
       "      <td>177</td>\n",
       "      <td>football</td>\n",
       "    </tr>\n",
       "    <tr>\n",
       "      <th>5</th>\n",
       "      <td>185</td>\n",
       "      <td>football</td>\n",
       "    </tr>\n",
       "    <tr>\n",
       "      <th>6</th>\n",
       "      <td>183</td>\n",
       "      <td>football</td>\n",
       "    </tr>\n",
       "    <tr>\n",
       "      <th>7</th>\n",
       "      <td>182</td>\n",
       "      <td>football</td>\n",
       "    </tr>\n",
       "    <tr>\n",
       "      <th>8</th>\n",
       "      <td>177</td>\n",
       "      <td>hockey</td>\n",
       "    </tr>\n",
       "    <tr>\n",
       "      <th>9</th>\n",
       "      <td>179</td>\n",
       "      <td>hockey</td>\n",
       "    </tr>\n",
       "    <tr>\n",
       "      <th>10</th>\n",
       "      <td>180</td>\n",
       "      <td>hockey</td>\n",
       "    </tr>\n",
       "    <tr>\n",
       "      <th>11</th>\n",
       "      <td>188</td>\n",
       "      <td>hockey</td>\n",
       "    </tr>\n",
       "    <tr>\n",
       "      <th>12</th>\n",
       "      <td>177</td>\n",
       "      <td>hockey</td>\n",
       "    </tr>\n",
       "    <tr>\n",
       "      <th>13</th>\n",
       "      <td>172</td>\n",
       "      <td>hockey</td>\n",
       "    </tr>\n",
       "    <tr>\n",
       "      <th>14</th>\n",
       "      <td>171</td>\n",
       "      <td>hockey</td>\n",
       "    </tr>\n",
       "    <tr>\n",
       "      <th>15</th>\n",
       "      <td>184</td>\n",
       "      <td>hockey</td>\n",
       "    </tr>\n",
       "    <tr>\n",
       "      <th>16</th>\n",
       "      <td>180</td>\n",
       "      <td>hockey</td>\n",
       "    </tr>\n",
       "    <tr>\n",
       "      <th>17</th>\n",
       "      <td>172</td>\n",
       "      <td>powerlifting</td>\n",
       "    </tr>\n",
       "    <tr>\n",
       "      <th>18</th>\n",
       "      <td>173</td>\n",
       "      <td>powerlifting</td>\n",
       "    </tr>\n",
       "    <tr>\n",
       "      <th>19</th>\n",
       "      <td>169</td>\n",
       "      <td>powerlifting</td>\n",
       "    </tr>\n",
       "    <tr>\n",
       "      <th>20</th>\n",
       "      <td>177</td>\n",
       "      <td>powerlifting</td>\n",
       "    </tr>\n",
       "    <tr>\n",
       "      <th>21</th>\n",
       "      <td>166</td>\n",
       "      <td>powerlifting</td>\n",
       "    </tr>\n",
       "    <tr>\n",
       "      <th>22</th>\n",
       "      <td>180</td>\n",
       "      <td>powerlifting</td>\n",
       "    </tr>\n",
       "    <tr>\n",
       "      <th>23</th>\n",
       "      <td>178</td>\n",
       "      <td>powerlifting</td>\n",
       "    </tr>\n",
       "    <tr>\n",
       "      <th>24</th>\n",
       "      <td>177</td>\n",
       "      <td>powerlifting</td>\n",
       "    </tr>\n",
       "    <tr>\n",
       "      <th>25</th>\n",
       "      <td>172</td>\n",
       "      <td>powerlifting</td>\n",
       "    </tr>\n",
       "    <tr>\n",
       "      <th>26</th>\n",
       "      <td>166</td>\n",
       "      <td>powerlifting</td>\n",
       "    </tr>\n",
       "    <tr>\n",
       "      <th>27</th>\n",
       "      <td>170</td>\n",
       "      <td>powerlifting</td>\n",
       "    </tr>\n",
       "  </tbody>\n",
       "</table>\n",
       "</div>"
      ],
      "text/plain": [
       "    height         sport\n",
       "0      173      football\n",
       "1      175      football\n",
       "2      180      football\n",
       "3      178      football\n",
       "4      177      football\n",
       "5      185      football\n",
       "6      183      football\n",
       "7      182      football\n",
       "8      177        hockey\n",
       "9      179        hockey\n",
       "10     180        hockey\n",
       "11     188        hockey\n",
       "12     177        hockey\n",
       "13     172        hockey\n",
       "14     171        hockey\n",
       "15     184        hockey\n",
       "16     180        hockey\n",
       "17     172  powerlifting\n",
       "18     173  powerlifting\n",
       "19     169  powerlifting\n",
       "20     177  powerlifting\n",
       "21     166  powerlifting\n",
       "22     180  powerlifting\n",
       "23     178  powerlifting\n",
       "24     177  powerlifting\n",
       "25     172  powerlifting\n",
       "26     166  powerlifting\n",
       "27     170  powerlifting"
      ]
     },
     "execution_count": 18,
     "metadata": {},
     "output_type": "execute_result"
    }
   ],
   "source": [
    "rost = pd.DataFrame({'height': [ 173, 175, 180, 178, 177, 185, 183, 182, 177, 179, 180, 188, 177, 172, 171, 184, 180, 172, 173, 169, 177, 166, 180, 178, 177, 172, 166, 170 ],\n",
    "    'sport': np.repeat(['football','hockey','powerlifting'],repeats=[8, 9, 11])})\n",
    "rost\n",
    "\n"
   ]
  },
  {
   "cell_type": "code",
   "execution_count": 19,
   "id": "7c8bb4d9",
   "metadata": {},
   "outputs": [
    {
     "name": "stdout",
     "output_type": "stream",
     "text": [
      "     Multiple Comparison of Means - Tukey HSD, FWER=0.05     \n",
      "=============================================================\n",
      " group1     group2    meandiff p-adj   lower    upper  reject\n",
      "-------------------------------------------------------------\n",
      "football       hockey  -0.4583  0.979  -6.2732  5.3566  False\n",
      "football powerlifting  -6.3977 0.0219 -11.9583 -0.8372   True\n",
      "  hockey powerlifting  -5.9394 0.0284 -11.3181 -0.5607   True\n",
      "-------------------------------------------------------------\n"
     ]
    }
   ],
   "source": [
    "tukey_test = pairwise_tukeyhsd(endog = rost[\"height\"], groups=rost[\"sport\"], alpha = 0.05)\n",
    "print(tukey_test)"
   ]
  },
  {
   "cell_type": "code",
   "execution_count": null,
   "id": "7af2bac7",
   "metadata": {},
   "outputs": [],
   "source": [
    "Делаем выводы: \n",
    "    между football и hockey p-adj = 0.979 > альфа 0.05, значит различия не найдены,\n",
    "    между football и powerlifting  p-adj = 0.02 < альфа 0.05, значит различия найдены,  \n",
    "    между hockey и powerlifting p-adj = 0.02 < альфа 0.05, значит различия найдены"
   ]
  }
 ],
 "metadata": {
  "kernelspec": {
   "display_name": "Python 3 (ipykernel)",
   "language": "python",
   "name": "python3"
  },
  "language_info": {
   "codemirror_mode": {
    "name": "ipython",
    "version": 3
   },
   "file_extension": ".py",
   "mimetype": "text/x-python",
   "name": "python",
   "nbconvert_exporter": "python",
   "pygments_lexer": "ipython3",
   "version": "3.9.12"
  }
 },
 "nbformat": 4,
 "nbformat_minor": 5
}
