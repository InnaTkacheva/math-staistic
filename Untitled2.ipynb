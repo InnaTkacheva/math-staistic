{
 "cells": [
  {
   "cell_type": "code",
   "execution_count": 1,
   "id": "6b19cb90",
   "metadata": {},
   "outputs": [],
   "source": [
    "import pandas as pd\n",
    "from scipy import stats\n",
    "import numpy as np"
   ]
  },
  {
   "cell_type": "markdown",
   "id": "729a9e55",
   "metadata": {},
   "source": [
    "Кр. Уилкоксона"
   ]
  },
  {
   "cell_type": "code",
   "execution_count": 2,
   "id": "37c772d1",
   "metadata": {},
   "outputs": [],
   "source": [
    "X=np.array([20,17, 14, 42, 50, 62, 8, 49, 81, 54, 48, 55, 56])\n",
    "Y=np.array ([20, 26, 1, 24, 1, 47, 15, 7, 65, 9, 21, 36, 30])\n"
   ]
  },
  {
   "cell_type": "code",
   "execution_count": 4,
   "id": "c7597a0c",
   "metadata": {},
   "outputs": [
    {
     "data": {
      "text/plain": [
       "WilcoxonResult(statistic=3.0, pvalue=0.004741768038406972)"
      ]
     },
     "execution_count": 4,
     "metadata": {},
     "output_type": "execute_result"
    }
   ],
   "source": [
    "stats.wilcoxon(X,Y)"
   ]
  },
  {
   "cell_type": "code",
   "execution_count": 5,
   "id": "a09c7d58",
   "metadata": {},
   "outputs": [],
   "source": [
    "pvalue=0.004"
   ]
  },
  {
   "cell_type": "code",
   "execution_count": 6,
   "id": "6fcda868",
   "metadata": {},
   "outputs": [],
   "source": [
    "X1=np.array([ 32, 41, 51, 29, 76, 47, 60, 58, 40, 64, 73, 66, 73])\n",
    "Y1=np.array ([42, 90, 71, 47, 56, 43, 137, 63, 28, 60, 87, 69, 50])"
   ]
  },
  {
   "cell_type": "code",
   "execution_count": null,
   "id": "d32e9194",
   "metadata": {},
   "outputs": [],
   "source": [
    "Задача 2"
   ]
  },
  {
   "cell_type": "code",
   "execution_count": 7,
   "id": "81d60497",
   "metadata": {},
   "outputs": [
    {
     "data": {
      "text/plain": [
       "WilcoxonResult(statistic=31.5, pvalue=0.339599609375)"
      ]
     },
     "execution_count": 7,
     "metadata": {},
     "output_type": "execute_result"
    }
   ],
   "source": [
    "stats.wilcoxon(X1,Y1)"
   ]
  },
  {
   "cell_type": "code",
   "execution_count": null,
   "id": "641fb821",
   "metadata": {},
   "outputs": [],
   "source": [
    "Задача 3"
   ]
  },
  {
   "cell_type": "code",
   "execution_count": 8,
   "id": "4109eab9",
   "metadata": {},
   "outputs": [],
   "source": [
    "A=np.array([3.5, 3.3, 4.9, 3.6])\n",
    "B=np.array([8.6, 5.4, 8.8, 5.6])\n",
    "C=np.array([5.1, 8.6, 7.7, 5.0])"
   ]
  },
  {
   "cell_type": "code",
   "execution_count": 9,
   "id": "eca33ae9",
   "metadata": {},
   "outputs": [
    {
     "data": {
      "text/plain": [
       "FriedmanchisquareResult(statistic=6.5, pvalue=0.03877420783172202)"
      ]
     },
     "execution_count": 9,
     "metadata": {},
     "output_type": "execute_result"
    }
   ],
   "source": [
    "stats.friedmanchisquare(A, B, C)"
   ]
  },
  {
   "cell_type": "code",
   "execution_count": null,
   "id": "98666a5d",
   "metadata": {},
   "outputs": [],
   "source": [
    "pvalue=0.038 < alfa 0.05, есть статистически значимые различия"
   ]
  },
  {
   "cell_type": "code",
   "execution_count": null,
   "id": "b56b7963",
   "metadata": {},
   "outputs": [],
   "source": []
  },
  {
   "cell_type": "code",
   "execution_count": 10,
   "id": "8eccdaa1",
   "metadata": {},
   "outputs": [],
   "source": [
    "Gr1=np.array([0.5, 0.7, 1, 1.2, 1.4])\n",
    "Gr2=np.array([1.3, 1.45, 1.6, 1.7, 1.8])\n",
    "Gr3=np.array([6.2, 12.6, 13.2, 14.1, 14.2])"
   ]
  },
  {
   "cell_type": "code",
   "execution_count": 11,
   "id": "30db5ca1",
   "metadata": {},
   "outputs": [
    {
     "data": {
      "text/plain": [
       "KruskalResult(statistic=12.02000000000001, pvalue=0.002454088180413905)"
      ]
     },
     "execution_count": 11,
     "metadata": {},
     "output_type": "execute_result"
    }
   ],
   "source": [
    "stats.kruskal(Gr1, Gr2, Gr3)"
   ]
  },
  {
   "cell_type": "code",
   "execution_count": null,
   "id": "74de4299",
   "metadata": {},
   "outputs": [],
   "source": []
  }
 ],
 "metadata": {
  "kernelspec": {
   "display_name": "Python 3 (ipykernel)",
   "language": "python",
   "name": "python3"
  },
  "language_info": {
   "codemirror_mode": {
    "name": "ipython",
    "version": 3
   },
   "file_extension": ".py",
   "mimetype": "text/x-python",
   "name": "python",
   "nbconvert_exporter": "python",
   "pygments_lexer": "ipython3",
   "version": "3.9.12"
  }
 },
 "nbformat": 4,
 "nbformat_minor": 5
}
