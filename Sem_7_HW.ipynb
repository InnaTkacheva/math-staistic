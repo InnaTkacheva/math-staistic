{
 "cells": [
  {
   "cell_type": "code",
   "execution_count": 1,
   "id": "ee912ae8",
   "metadata": {},
   "outputs": [],
   "source": [
    "import pandas as pd\n",
    "from scipy import stats\n",
    "import numpy as np"
   ]
  },
  {
   "cell_type": "markdown",
   "id": "ec56c18c",
   "metadata": {},
   "source": [
    "### Выберете тест и проверьте, есть ли различия между выборками:"
   ]
  },
  {
   "cell_type": "markdown",
   "id": "f3a20f03",
   "metadata": {},
   "source": [
    "### Задача 1:\n",
    "    \n",
    "Даны две независимые выборки. Не соблюдается условие нормальности\n",
    "\n",
    "x1 380,420, 290\n",
    "\n",
    "y1 140,360,200,900\n",
    "\n",
    "Сделайте вывод по результатам, полученным с помощью функции"
   ]
  },
  {
   "cell_type": "code",
   "execution_count": 8,
   "id": "51c35afd",
   "metadata": {},
   "outputs": [],
   "source": [
    "x=np.array([380,420, 290])\n",
    "y=np.array ([140,360,200,900])"
   ]
  },
  {
   "cell_type": "markdown",
   "id": "ab29c79c",
   "metadata": {},
   "source": [
    "При сравнении 2-ух независимых выборок используем критерий Манна-Уитни:"
   ]
  },
  {
   "cell_type": "code",
   "execution_count": 9,
   "id": "638e4bd2",
   "metadata": {},
   "outputs": [
    {
     "data": {
      "text/plain": [
       "MannwhitneyuResult(statistic=8.0, pvalue=0.6285714285714286)"
      ]
     },
     "execution_count": 9,
     "metadata": {},
     "output_type": "execute_result"
    }
   ],
   "source": [
    "stats.mannwhitneyu(x, y)"
   ]
  },
  {
   "cell_type": "markdown",
   "id": "7f5e9fa2",
   "metadata": {},
   "source": [
    "pvalue=0.628 > alfa 0.05, делаем Вывод: статистически значимых различий между выборками НЕТ"
   ]
  },
  {
   "cell_type": "markdown",
   "id": "31eee2b5",
   "metadata": {},
   "source": [
    "### Задача 2:\n",
    "    \n",
    "Исследовалось влияние препарата на уровень давления пациентов. Сначала измерялось давление до приема препарата, потом через 10 минут и через 30 минут. Есть ли статистически значимые различия?\n",
    "\n",
    "1е измерение до приема препарата: 150, 160, 165, 145, 155\n",
    "\n",
    "2е измерение через 10 минут: 140, 155, 150, 130, 135\n",
    "\n",
    "3е измерение через 30 минут: 130, 130, 120, 130, 125"
   ]
  },
  {
   "cell_type": "code",
   "execution_count": null,
   "id": "b55bda36",
   "metadata": {},
   "outputs": [],
   "source": [
    "При анализе повторных измерений в более, чем 2-ух выборках используем критерий Фридмана:"
   ]
  },
  {
   "cell_type": "code",
   "execution_count": 10,
   "id": "1d91f563",
   "metadata": {},
   "outputs": [],
   "source": [
    "x0=np.array([150, 160, 165, 145, 155])\n",
    "x10=np.array([140, 155, 150, 130, 135])\n",
    "x30=np.array([130, 130, 120, 130, 125])"
   ]
  },
  {
   "cell_type": "code",
   "execution_count": 11,
   "id": "74ceab35",
   "metadata": {},
   "outputs": [
    {
     "data": {
      "text/plain": [
       "FriedmanchisquareResult(statistic=9.578947368421062, pvalue=0.00831683351100441)"
      ]
     },
     "execution_count": 11,
     "metadata": {},
     "output_type": "execute_result"
    }
   ],
   "source": [
    "stats.friedmanchisquare(x0, x10, x30)"
   ]
  },
  {
   "cell_type": "markdown",
   "id": "4300d2e0",
   "metadata": {},
   "source": [
    "pvalue=0.008 < alfa 0.05, делаем Вывод: статистически значимые различия между выборками ЕСТЬ"
   ]
  },
  {
   "cell_type": "markdown",
   "id": "c6a693e0",
   "metadata": {},
   "source": [
    "### Задача 3:\n",
    "\n",
    "Сравните 1 и 2 е измерения, предполагая, что 3го измерения через 30 минут не было.\n"
   ]
  },
  {
   "cell_type": "markdown",
   "id": "5384c453",
   "metadata": {},
   "source": [
    "При сравнении 2-ух зависимых выборок используем критерий Уилкоксона:"
   ]
  },
  {
   "cell_type": "code",
   "execution_count": 13,
   "id": "cb3cede8",
   "metadata": {},
   "outputs": [],
   "source": [
    "x1=np.array([150, 160, 165, 145, 155])\n",
    "x2=np.array([140, 155, 150, 130, 135])"
   ]
  },
  {
   "cell_type": "code",
   "execution_count": 14,
   "id": "e6075bd4",
   "metadata": {},
   "outputs": [
    {
     "data": {
      "text/plain": [
       "WilcoxonResult(statistic=0.0, pvalue=0.0625)"
      ]
     },
     "execution_count": 14,
     "metadata": {},
     "output_type": "execute_result"
    }
   ],
   "source": [
    "stats.wilcoxon(x1,x2)"
   ]
  },
  {
   "cell_type": "markdown",
   "id": "fd8c079a",
   "metadata": {},
   "source": [
    "pvalue=0.0625 > alfa 0.05, делаем Вывод: статистически значимых различий между выборками НЕТ"
   ]
  },
  {
   "cell_type": "markdown",
   "id": "370a8b81",
   "metadata": {},
   "source": [
    "### Задача 4:\n",
    "\n",
    "Даны 3 группы учеников плавания.\n",
    "\n",
    "\n",
    "В 1 группе время на дистанцию 50 м составляют:\n",
    "\n",
    "56, 60, 62, 55, 71, 67, 59, 58, 64, 67\n",
    "\n",
    "Вторая группа : 57, 58, 69, 48, 72, 70, 68, 71, 50, 53\n",
    "\n",
    "Третья группа: 57, 67, 49, 48, 47, 55, 66, 51, 54\n"
   ]
  },
  {
   "cell_type": "markdown",
   "id": "35ef55b9",
   "metadata": {},
   "source": [
    "При анализе независимых выборок в более, чем 2-ух выборках используем критерий Крускала-Уоллиса:"
   ]
  },
  {
   "cell_type": "code",
   "execution_count": 17,
   "id": "a55515c5",
   "metadata": {},
   "outputs": [],
   "source": [
    "Gr1=np.array([56, 60, 62, 55, 71, 67, 59, 58, 64, 67])\n",
    "Gr2=np.array([57, 58, 69, 48, 72, 70, 68, 71, 50, 53])\n",
    "Gr3=np.array([57, 67, 49, 48, 47, 55, 66, 51, 54])"
   ]
  },
  {
   "cell_type": "code",
   "execution_count": 18,
   "id": "6872d11e",
   "metadata": {},
   "outputs": [
    {
     "data": {
      "text/plain": [
       "KruskalResult(statistic=5.465564058257224, pvalue=0.0650380998590494)"
      ]
     },
     "execution_count": 18,
     "metadata": {},
     "output_type": "execute_result"
    }
   ],
   "source": [
    "stats.kruskal(Gr1, Gr2, Gr3)"
   ]
  },
  {
   "cell_type": "markdown",
   "id": "3152b4e3",
   "metadata": {},
   "source": [
    "pvalue=0.06503 > alfa 0.05, делаем Вывод: статистически значимых различий между выборками НЕТ"
   ]
  },
  {
   "cell_type": "markdown",
   "id": "c312b958",
   "metadata": {},
   "source": [
    "### Задача 5:\n",
    "\n",
    "Заявляется, что партия изготавливается со средним арифметическим 2,5 см. \n",
    "\n",
    "Проверить данную гипотезу, если известно, что размеры изделий подчинены нормальному закону распределения. \n",
    "\n",
    "Объем выборки 10, уровень статистической значимости 5%\n",
    "\n",
    "\n",
    "2.51, 2.35, 2.74, 2.56, 2.40, 2.36, 2.65, 2.7, 2.67, 2.34"
   ]
  },
  {
   "cell_type": "markdown",
   "id": "de437872",
   "metadata": {},
   "source": [
    "Формулировка гипотезы:\n",
    "\n",
    "H0: mu = mu_0\n",
    "\n",
    "H1: mu > mu_0\n",
    "\n",
    "\n",
    "Выбор критерия:\n",
    "\n",
    "Используем t критерий, т.к. НЕизвестна дисперсия\n",
    "\n",
    "\n",
    "t н=(Xср – mu)/ sigma(несмещ)*sqrt(n)"
   ]
  },
  {
   "cell_type": "code",
   "execution_count": 36,
   "id": "26315997",
   "metadata": {},
   "outputs": [],
   "source": [
    "a = np.array([2.51, 2.35, 2.74, 2.56, 2.40, 2.36, 2.65, 2.7, 2.67, 2.34])\n",
    "mu_0 = 2.5"
   ]
  },
  {
   "cell_type": "code",
   "execution_count": 37,
   "id": "3ddb4bfa",
   "metadata": {},
   "outputs": [
    {
     "data": {
      "text/plain": [
       "10"
      ]
     },
     "execution_count": 37,
     "metadata": {},
     "output_type": "execute_result"
    }
   ],
   "source": [
    "n=len(a)\n",
    "n"
   ]
  },
  {
   "cell_type": "code",
   "execution_count": 38,
   "id": "c0f232b5",
   "metadata": {},
   "outputs": [
    {
     "data": {
      "text/plain": [
       "2.5279999999999996"
      ]
     },
     "execution_count": 38,
     "metadata": {},
     "output_type": "execute_result"
    }
   ],
   "source": [
    "a_mean=np.mean(a)\n",
    "a_mean"
   ]
  },
  {
   "cell_type": "code",
   "execution_count": 39,
   "id": "ef5b3a56",
   "metadata": {},
   "outputs": [
    {
     "data": {
      "text/plain": [
       "0.1572542173961923"
      ]
     },
     "execution_count": 39,
     "metadata": {},
     "output_type": "execute_result"
    }
   ],
   "source": [
    "sig=np.std(a, ddof=1)\n",
    "sig"
   ]
  },
  {
   "cell_type": "code",
   "execution_count": 41,
   "id": "8b7040b4",
   "metadata": {},
   "outputs": [
    {
     "data": {
      "text/plain": [
       "0.5630613661802959"
      ]
     },
     "execution_count": 41,
     "metadata": {},
     "output_type": "execute_result"
    }
   ],
   "source": [
    "t_znach=(a_mean-mu_0)/(sig/np.sqrt(n))\n",
    "t_znach"
   ]
  },
  {
   "cell_type": "markdown",
   "id": "11c8d13b",
   "metadata": {},
   "source": [
    "Степени свободы для одновыборочного теста: (n-1)=(10-1)=9\n",
    "t_tabl = 1,833\n",
    "t_znach < t_tabl\n",
    "\n",
    "График (гипотеза Ho слева, гипотеза H1 справа)\n",
    "\n",
    "Вывод в пользу гипотезы H0. Размеры изделий составляют 2,5 см, гипотеза верна при а = 0,05."
   ]
  },
  {
   "cell_type": "code",
   "execution_count": null,
   "id": "0b337203",
   "metadata": {},
   "outputs": [],
   "source": []
  }
 ],
 "metadata": {
  "kernelspec": {
   "display_name": "Python 3 (ipykernel)",
   "language": "python",
   "name": "python3"
  },
  "language_info": {
   "codemirror_mode": {
    "name": "ipython",
    "version": 3
   },
   "file_extension": ".py",
   "mimetype": "text/x-python",
   "name": "python",
   "nbconvert_exporter": "python",
   "pygments_lexer": "ipython3",
   "version": "3.9.12"
  }
 },
 "nbformat": 4,
 "nbformat_minor": 5
}
