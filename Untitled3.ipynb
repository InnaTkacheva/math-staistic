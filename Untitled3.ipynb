{
 "cells": [
  {
   "cell_type": "code",
   "execution_count": 1,
   "id": "6d038186",
   "metadata": {},
   "outputs": [],
   "source": [
    "import pandas as pd\n",
    "from scipy import stats\n",
    "import numpy as np"
   ]
  },
  {
   "cell_type": "markdown",
   "id": "54917cfe",
   "metadata": {},
   "source": [
    "### Выберете тест и проверьте, есть ли различия между выборками:"
   ]
  },
  {
   "cell_type": "markdown",
   "id": "1d7b9a3f",
   "metadata": {},
   "source": [
    "### Задача 1:\n",
    "    \n",
    "Даны две независимые выборки. Не соблюдается условие нормальности\n",
    "\n",
    "x1 380,420, 290\n",
    "\n",
    "y1 140,360,200,900\n",
    "\n",
    "Сделайте вывод по результатам, полученным с помощью функции"
   ]
  },
  {
   "cell_type": "code",
   "execution_count": 8,
   "id": "0cda444d",
   "metadata": {},
   "outputs": [],
   "source": [
    "x=np.array([380,420, 290])\n",
    "y=np.array ([140,360,200,900])"
   ]
  },
  {
   "cell_type": "markdown",
   "id": "f8849766",
   "metadata": {},
   "source": [
    "При сравнении 2-ух независимых выборок используем критерий Манна-Уитни:"
   ]
  },
  {
   "cell_type": "code",
   "execution_count": 9,
   "id": "474b80cb",
   "metadata": {},
   "outputs": [
    {
     "data": {
      "text/plain": [
       "MannwhitneyuResult(statistic=8.0, pvalue=0.6285714285714286)"
      ]
     },
     "execution_count": 9,
     "metadata": {},
     "output_type": "execute_result"
    }
   ],
   "source": [
    "stats.mannwhitneyu(x, y)"
   ]
  },
  {
   "cell_type": "markdown",
   "id": "449951e1",
   "metadata": {},
   "source": [
    "pvalue=0.628 > alfa 0.05, делаем Вывод: статистически значимых различий между выборками НЕТ, верна альтернативная гипотеза H1."
   ]
  },
  {
   "cell_type": "markdown",
   "id": "bebabc38",
   "metadata": {},
   "source": [
    "### Задача 2:\n",
    "    \n",
    "Исследовалось влияние препарата на уровень давления пациентов. Сначала измерялось давление до приема препарата, потом через 10 минут и через 30 минут. Есть ли статистически значимые различия?\n",
    "\n",
    "1е измерение до приема препарата: 150, 160, 165, 145, 155\n",
    "\n",
    "2е измерение через 10 минут: 140, 155, 150, 130, 135\n",
    "\n",
    "3е измерение через 30 минут: 130, 130, 120, 130, 125"
   ]
  },
  {
   "cell_type": "code",
   "execution_count": null,
   "id": "11b367c3",
   "metadata": {},
   "outputs": [],
   "source": [
    "При анализе повторных измерений в более, чем 2-ух выборках используем критерий Фридмана:"
   ]
  },
  {
   "cell_type": "code",
   "execution_count": 10,
   "id": "caa95122",
   "metadata": {},
   "outputs": [],
   "source": [
    "x0=np.array([150, 160, 165, 145, 155])\n",
    "x10=np.array([140, 155, 150, 130, 135])\n",
    "x30=np.array([130, 130, 120, 130, 125])"
   ]
  },
  {
   "cell_type": "code",
   "execution_count": 11,
   "id": "95c2fad7",
   "metadata": {},
   "outputs": [
    {
     "data": {
      "text/plain": [
       "FriedmanchisquareResult(statistic=9.578947368421062, pvalue=0.00831683351100441)"
      ]
     },
     "execution_count": 11,
     "metadata": {},
     "output_type": "execute_result"
    }
   ],
   "source": [
    "stats.friedmanchisquare(x0, x10, x30)"
   ]
  },
  {
   "cell_type": "markdown",
   "id": "9271a998",
   "metadata": {},
   "source": [
    "pvalue=0.008 < alfa 0.05, делаем Вывод: статистически значимые различия между выборками ЕСТЬ, верна нулевая гипотеза H0."
   ]
  },
  {
   "cell_type": "markdown",
   "id": "146553bd",
   "metadata": {},
   "source": [
    "### Задача 3:\n",
    "\n",
    "Сравните 1 и 2 е измерения, предполагая, что 3го измерения через 30 минут не было.\n"
   ]
  },
  {
   "cell_type": "markdown",
   "id": "b5af8d3f",
   "metadata": {},
   "source": [
    "При сравнении 2-ух зависимых выборок используем критерий Уилкоксона:"
   ]
  },
  {
   "cell_type": "code",
   "execution_count": 13,
   "id": "979971f5",
   "metadata": {},
   "outputs": [],
   "source": [
    "x1=np.array([150, 160, 165, 145, 155])\n",
    "x2=np.array([140, 155, 150, 130, 135])"
   ]
  },
  {
   "cell_type": "code",
   "execution_count": 14,
   "id": "1405fb1f",
   "metadata": {},
   "outputs": [
    {
     "data": {
      "text/plain": [
       "WilcoxonResult(statistic=0.0, pvalue=0.0625)"
      ]
     },
     "execution_count": 14,
     "metadata": {},
     "output_type": "execute_result"
    }
   ],
   "source": [
    "stats.wilcoxon(x1,x2)"
   ]
  },
  {
   "cell_type": "markdown",
   "id": "9eaef9e9",
   "metadata": {},
   "source": [
    "pvalue=0.0625 > alfa 0.05, делаем Вывод: статистически значимых различий между выборками НЕТ, верна альтернативная гипотеза H1."
   ]
  },
  {
   "cell_type": "markdown",
   "id": "1135ebb9",
   "metadata": {},
   "source": [
    "### Задача 4:\n",
    "\n",
    "Даны 3 группы учеников плавания.\n",
    "\n",
    "\n",
    "В 1 группе время на дистанцию 50 м составляют:\n",
    "\n",
    "56, 60, 62, 55, 71, 67, 59, 58, 64, 67\n",
    "\n",
    "Вторая группа : 57, 58, 69, 48, 72, 70, 68, 71, 50, 53\n",
    "\n",
    "Третья группа: 57, 67, 49, 48, 47, 55, 66, 51, 54\n"
   ]
  },
  {
   "cell_type": "markdown",
   "id": "51b5bb8f",
   "metadata": {},
   "source": [
    "При анализе независимых выборок в более, чем 2-ух выборках используем критерий Крускала-Уоллиса:"
   ]
  },
  {
   "cell_type": "code",
   "execution_count": 17,
   "id": "e37cbb5f",
   "metadata": {},
   "outputs": [],
   "source": [
    "Gr1=np.array([56, 60, 62, 55, 71, 67, 59, 58, 64, 67])\n",
    "Gr2=np.array([57, 58, 69, 48, 72, 70, 68, 71, 50, 53])\n",
    "Gr3=np.array([57, 67, 49, 48, 47, 55, 66, 51, 54])"
   ]
  },
  {
   "cell_type": "code",
   "execution_count": 18,
   "id": "521a64f5",
   "metadata": {},
   "outputs": [
    {
     "data": {
      "text/plain": [
       "KruskalResult(statistic=5.465564058257224, pvalue=0.0650380998590494)"
      ]
     },
     "execution_count": 18,
     "metadata": {},
     "output_type": "execute_result"
    }
   ],
   "source": [
    "stats.kruskal(Gr1, Gr2, Gr3)"
   ]
  },
  {
   "cell_type": "markdown",
   "id": "f31c128b",
   "metadata": {},
   "source": [
    "pvalue=0.06503 > alfa 0.05, делаем Вывод: статистически значимых различий между выборками НЕТ, верна альтернативная гипотеза H1."
   ]
  },
  {
   "cell_type": "markdown",
   "id": "49cb8eb9",
   "metadata": {},
   "source": [
    "### Задача 5:\n",
    "\n",
    "Заявляется, что партия изготавливается со средним арифметическим 2,5 см. \n",
    "\n",
    "Проверить данную гипотезу, если известно, что размеры изделий подчинены нормальному закону распределения. \n",
    "\n",
    "Объем выборки 10, уровень статистической значимости 5%\n",
    "\n",
    "\n",
    "2.51, 2.35, 2.74, 2.56, 2.40, 2.36, 2.65, 2.7, 2.67, 2.34"
   ]
  },
  {
   "cell_type": "code",
   "execution_count": null,
   "id": "6760ac7f",
   "metadata": {},
   "outputs": [],
   "source": [
    "Для проверки решим задачу письменно и с помощью функции:\n",
    "\n",
    "При анализе независимых выборок в более, чем 2-ух выборках используем критерий Крускала-Уоллиса:"
   ]
  }
 ],
 "metadata": {
  "kernelspec": {
   "display_name": "Python 3 (ipykernel)",
   "language": "python",
   "name": "python3"
  },
  "language_info": {
   "codemirror_mode": {
    "name": "ipython",
    "version": 3
   },
   "file_extension": ".py",
   "mimetype": "text/x-python",
   "name": "python",
   "nbconvert_exporter": "python",
   "pygments_lexer": "ipython3",
   "version": "3.9.12"
  }
 },
 "nbformat": 4,
 "nbformat_minor": 5
}
