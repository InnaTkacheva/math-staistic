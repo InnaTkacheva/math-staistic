{
 "cells": [
  {
   "cell_type": "markdown",
   "id": "1d7b37e7",
   "metadata": {},
   "source": [
    "Ниже приведены диаметры коронарных артерий после приема нифедипина и плацебо.   Позволяют ли приводимые ниже данные утверждать, что нифедипин влияет на диаметр коронарных артерий?  \n",
    "Выполнить расчеты в Python  \n",
    "Сделайте расчет в ручную  \n",
    "Сравните критерий Стьюдента и p-value со значениями, полученными в Python  \n"
   ]
  },
  {
   "cell_type": "code",
   "execution_count": 2,
   "id": "5519af33",
   "metadata": {},
   "outputs": [],
   "source": [
    "import pandas as pd\n",
    "from scipy import stats\n"
   ]
  },
  {
   "cell_type": "code",
   "execution_count": 4,
   "id": "d9dd7318",
   "metadata": {},
   "outputs": [],
   "source": [
    "import numpy as np"
   ]
  },
  {
   "cell_type": "code",
   "execution_count": 7,
   "id": "071912ad",
   "metadata": {},
   "outputs": [],
   "source": [
    "x =np.array([2.5, 2.2, 2.6, 2, 2.1, 1.8,2.4, 2.3, 2.7, 2.7, 1.9]) \n",
    "y= np.array([2.5, 1.7, 1.5, 2.5, 1.4, 1.9, 2.3, 2.0, 2.6, 2.3, 2.2])"
   ]
  },
  {
   "cell_type": "code",
   "execution_count": 8,
   "id": "e4f8c5c6",
   "metadata": {},
   "outputs": [
    {
     "data": {
      "text/plain": [
       "Ttest_indResult(statistic=1.3283484757831465, pvalue=0.19902265798859647)"
      ]
     },
     "execution_count": 8,
     "metadata": {},
     "output_type": "execute_result"
    }
   ],
   "source": [
    "stats.ttest_ind(x, y)"
   ]
  }
 ],
 "metadata": {
  "kernelspec": {
   "display_name": "Python 3 (ipykernel)",
   "language": "python",
   "name": "python3"
  },
  "language_info": {
   "codemirror_mode": {
    "name": "ipython",
    "version": 3
   },
   "file_extension": ".py",
   "mimetype": "text/x-python",
   "name": "python",
   "nbconvert_exporter": "python",
   "pygments_lexer": "ipython3",
   "version": "3.9.12"
  }
 },
 "nbformat": 4,
 "nbformat_minor": 5
}
